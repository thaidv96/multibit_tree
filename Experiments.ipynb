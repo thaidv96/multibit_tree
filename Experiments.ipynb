{
 "cells": [
  {
   "cell_type": "code",
   "execution_count": 1,
   "metadata": {
    "ExecuteTime": {
     "end_time": "2019-08-13T07:54:52.131443Z",
     "start_time": "2019-08-13T07:54:51.379025Z"
    }
   },
   "outputs": [],
   "source": [
    "import numpy as np\n",
    "from datetime import datetime\n",
    "from multiprocessing import Pool, cpu_count"
   ]
  },
  {
   "cell_type": "code",
   "execution_count": 3,
   "metadata": {
    "ExecuteTime": {
     "end_time": "2019-08-13T07:55:43.708778Z",
     "start_time": "2019-08-13T07:55:43.669444Z"
    }
   },
   "outputs": [
    {
     "data": {
      "text/plain": [
       "datetime.datetime(2019, 8, 13, 14, 55, 43, 671776)"
      ]
     },
     "execution_count": 3,
     "metadata": {},
     "output_type": "execute_result"
    }
   ],
   "source": [
    "datetime.now()"
   ]
  },
  {
   "cell_type": "markdown",
   "metadata": {},
   "source": [
    "## Create Fingerprints"
   ]
  },
  {
   "cell_type": "code",
   "execution_count": 5,
   "metadata": {
    "ExecuteTime": {
     "end_time": "2019-08-13T04:25:36.796539Z",
     "start_time": "2019-08-13T04:25:35.840440Z"
    }
   },
   "outputs": [],
   "source": [
    "import pandas as pd\n",
    "\n",
    "dfs = pd.read_csv(\"./data/new_record2.csv\", chunksize=100000)"
   ]
  },
  {
   "cell_type": "code",
   "execution_count": 6,
   "metadata": {
    "ExecuteTime": {
     "end_time": "2019-08-13T04:25:37.257217Z",
     "start_time": "2019-08-13T04:25:37.248756Z"
    }
   },
   "outputs": [],
   "source": [
    "from utils import encode\n",
    "\n",
    "\n",
    "def custom_encode(record):\n",
    "    return ' '.join(encode(record).astype(str))\n",
    "\n",
    "\n",
    "encode_vectorize = np.vectorize(custom_encode)"
   ]
  },
  {
   "cell_type": "code",
   "execution_count": 11,
   "metadata": {
    "ExecuteTime": {
     "end_time": "2019-08-13T05:05:54.426111Z",
     "start_time": "2019-08-13T04:30:30.042236Z"
    },
    "collapsed": true
   },
   "outputs": [
    {
     "name": "stdout",
     "output_type": "stream",
     "text": [
      "COMPLETED 0.01 2019-08-13 11:30:30.184376\n",
      "COMPLETED 0.02 2019-08-13 11:31:01.780314\n",
      "COMPLETED 0.03 2019-08-13 11:31:34.829239\n",
      "COMPLETED 0.04 2019-08-13 11:32:07.413395\n",
      "COMPLETED 0.05 2019-08-13 11:32:40.093465\n",
      "COMPLETED 0.06 2019-08-13 11:33:14.492527\n",
      "COMPLETED 0.07 2019-08-13 11:33:47.976472\n",
      "COMPLETED 0.08 2019-08-13 11:34:20.640734\n",
      "COMPLETED 0.09 2019-08-13 11:34:54.902268\n",
      "COMPLETED 0.1 2019-08-13 11:35:30.323900\n",
      "COMPLETED 0.11 2019-08-13 11:36:09.380631\n",
      "COMPLETED 0.12 2019-08-13 11:36:44.238006\n",
      "COMPLETED 0.13 2019-08-13 11:37:19.913190\n",
      "COMPLETED 0.14 2019-08-13 11:37:57.941731\n",
      "COMPLETED 0.15 2019-08-13 11:38:33.801208\n",
      "COMPLETED 0.16 2019-08-13 11:39:09.302908\n",
      "COMPLETED 0.17 2019-08-13 11:39:46.436468\n",
      "COMPLETED 0.18 2019-08-13 11:40:23.652525\n",
      "COMPLETED 0.19 2019-08-13 11:41:03.931886\n",
      "COMPLETED 0.2 2019-08-13 11:41:44.578907\n",
      "COMPLETED 0.21 2019-08-13 11:42:23.294864\n",
      "COMPLETED 0.22 2019-08-13 11:43:01.393434\n",
      "COMPLETED 0.23 2019-08-13 11:43:39.419455\n",
      "COMPLETED 0.24 2019-08-13 11:44:18.257391\n",
      "COMPLETED 0.25 2019-08-13 11:44:57.459871\n",
      "COMPLETED 0.26 2019-08-13 11:45:36.420119\n",
      "COMPLETED 0.27 2019-08-13 11:46:14.890769\n",
      "COMPLETED 0.28 2019-08-13 11:46:58.662511\n",
      "COMPLETED 0.29 2019-08-13 11:47:38.710564\n",
      "COMPLETED 0.3 2019-08-13 11:48:16.398229\n",
      "COMPLETED 0.31 2019-08-13 11:48:54.510415\n",
      "COMPLETED 0.32 2019-08-13 11:49:31.848855\n",
      "COMPLETED 0.33 2019-08-13 11:50:10.068908\n",
      "COMPLETED 0.34 2019-08-13 11:50:47.472326\n",
      "COMPLETED 0.35 2019-08-13 11:51:25.063989\n",
      "COMPLETED 0.36 2019-08-13 11:52:02.514123\n",
      "COMPLETED 0.37 2019-08-13 11:52:39.851516\n",
      "COMPLETED 0.38 2019-08-13 11:53:17.040150\n",
      "COMPLETED 0.39 2019-08-13 11:53:54.415374\n",
      "COMPLETED 0.4 2019-08-13 11:54:32.511144\n",
      "COMPLETED 0.41 2019-08-13 11:55:07.352095\n",
      "COMPLETED 0.42 2019-08-13 11:55:42.356185\n",
      "COMPLETED 0.43 2019-08-13 11:56:17.445276\n",
      "COMPLETED 0.44 2019-08-13 11:56:52.413401\n",
      "COMPLETED 0.45 2019-08-13 11:57:29.071979\n",
      "COMPLETED 0.46 2019-08-13 11:58:04.143854\n",
      "COMPLETED 0.47 2019-08-13 11:58:41.914659\n",
      "COMPLETED 0.48 2019-08-13 11:59:16.998133\n",
      "COMPLETED 0.49 2019-08-13 11:59:54.073037\n",
      "COMPLETED 0.5 2019-08-13 12:00:29.637316\n",
      "COMPLETED 0.51 2019-08-13 12:01:04.674976\n",
      "COMPLETED 0.52 2019-08-13 12:02:22.313650\n",
      "COMPLETED 0.53 2019-08-13 12:03:03.861012\n",
      "COMPLETED 0.54 2019-08-13 12:05:48.867672\n"
     ]
    },
    {
     "ename": "OSError",
     "evalue": "[Errno 12] Cannot allocate memory",
     "output_type": "error",
     "traceback": [
      "\u001b[0;31m---------------------------------------------------------------------------\u001b[0m",
      "\u001b[0;31mOSError\u001b[0m                                   Traceback (most recent call last)",
      "\u001b[0;32m<ipython-input-11-399c9b8a856f>\u001b[0m in \u001b[0;36m<module>\u001b[0;34m\u001b[0m\n\u001b[1;32m      9\u001b[0m     \u001b[0mnum_cpu\u001b[0m \u001b[0;34m=\u001b[0m \u001b[0mcpu_count\u001b[0m\u001b[0;34m(\u001b[0m\u001b[0;34m)\u001b[0m\u001b[0;34m\u001b[0m\u001b[0;34m\u001b[0m\u001b[0m\n\u001b[1;32m     10\u001b[0m     \u001b[0mblocks\u001b[0m \u001b[0;34m=\u001b[0m \u001b[0mnp\u001b[0m\u001b[0;34m.\u001b[0m\u001b[0msplit\u001b[0m\u001b[0;34m(\u001b[0m\u001b[0mrecords\u001b[0m\u001b[0;34m,\u001b[0m \u001b[0mnum_cpu\u001b[0m\u001b[0;34m)\u001b[0m\u001b[0;34m\u001b[0m\u001b[0;34m\u001b[0m\u001b[0m\n\u001b[0;32m---> 11\u001b[0;31m     \u001b[0mp\u001b[0m \u001b[0;34m=\u001b[0m \u001b[0mPool\u001b[0m\u001b[0;34m(\u001b[0m\u001b[0mnum_cpu\u001b[0m\u001b[0;34m)\u001b[0m\u001b[0;34m\u001b[0m\u001b[0;34m\u001b[0m\u001b[0m\n\u001b[0m\u001b[1;32m     12\u001b[0m     \u001b[0mfingerprint\u001b[0m \u001b[0;34m=\u001b[0m \u001b[0mnp\u001b[0m\u001b[0;34m.\u001b[0m\u001b[0mconcatenate\u001b[0m\u001b[0;34m(\u001b[0m\u001b[0mp\u001b[0m\u001b[0;34m.\u001b[0m\u001b[0mmap\u001b[0m\u001b[0;34m(\u001b[0m\u001b[0mencode_vectorize\u001b[0m\u001b[0;34m,\u001b[0m \u001b[0mblocks\u001b[0m\u001b[0;34m)\u001b[0m\u001b[0;34m)\u001b[0m\u001b[0;34m\u001b[0m\u001b[0;34m\u001b[0m\u001b[0m\n\u001b[1;32m     13\u001b[0m     \u001b[0mp\u001b[0m\u001b[0;34m.\u001b[0m\u001b[0mclose\u001b[0m\u001b[0;34m(\u001b[0m\u001b[0;34m)\u001b[0m\u001b[0;34m\u001b[0m\u001b[0;34m\u001b[0m\u001b[0m\n",
      "\u001b[0;32m~/anaconda3/lib/python3.7/multiprocessing/context.py\u001b[0m in \u001b[0;36mPool\u001b[0;34m(self, processes, initializer, initargs, maxtasksperchild)\u001b[0m\n\u001b[1;32m    117\u001b[0m         \u001b[0;32mfrom\u001b[0m \u001b[0;34m.\u001b[0m\u001b[0mpool\u001b[0m \u001b[0;32mimport\u001b[0m \u001b[0mPool\u001b[0m\u001b[0;34m\u001b[0m\u001b[0;34m\u001b[0m\u001b[0m\n\u001b[1;32m    118\u001b[0m         return Pool(processes, initializer, initargs, maxtasksperchild,\n\u001b[0;32m--> 119\u001b[0;31m                     context=self.get_context())\n\u001b[0m\u001b[1;32m    120\u001b[0m \u001b[0;34m\u001b[0m\u001b[0m\n\u001b[1;32m    121\u001b[0m     \u001b[0;32mdef\u001b[0m \u001b[0mRawValue\u001b[0m\u001b[0;34m(\u001b[0m\u001b[0mself\u001b[0m\u001b[0;34m,\u001b[0m \u001b[0mtypecode_or_type\u001b[0m\u001b[0;34m,\u001b[0m \u001b[0;34m*\u001b[0m\u001b[0margs\u001b[0m\u001b[0;34m)\u001b[0m\u001b[0;34m:\u001b[0m\u001b[0;34m\u001b[0m\u001b[0;34m\u001b[0m\u001b[0m\n",
      "\u001b[0;32m~/anaconda3/lib/python3.7/multiprocessing/pool.py\u001b[0m in \u001b[0;36m__init__\u001b[0;34m(self, processes, initializer, initargs, maxtasksperchild, context)\u001b[0m\n\u001b[1;32m    174\u001b[0m         \u001b[0mself\u001b[0m\u001b[0;34m.\u001b[0m\u001b[0m_processes\u001b[0m \u001b[0;34m=\u001b[0m \u001b[0mprocesses\u001b[0m\u001b[0;34m\u001b[0m\u001b[0;34m\u001b[0m\u001b[0m\n\u001b[1;32m    175\u001b[0m         \u001b[0mself\u001b[0m\u001b[0;34m.\u001b[0m\u001b[0m_pool\u001b[0m \u001b[0;34m=\u001b[0m \u001b[0;34m[\u001b[0m\u001b[0;34m]\u001b[0m\u001b[0;34m\u001b[0m\u001b[0;34m\u001b[0m\u001b[0m\n\u001b[0;32m--> 176\u001b[0;31m         \u001b[0mself\u001b[0m\u001b[0;34m.\u001b[0m\u001b[0m_repopulate_pool\u001b[0m\u001b[0;34m(\u001b[0m\u001b[0;34m)\u001b[0m\u001b[0;34m\u001b[0m\u001b[0;34m\u001b[0m\u001b[0m\n\u001b[0m\u001b[1;32m    177\u001b[0m \u001b[0;34m\u001b[0m\u001b[0m\n\u001b[1;32m    178\u001b[0m         self._worker_handler = threading.Thread(\n",
      "\u001b[0;32m~/anaconda3/lib/python3.7/multiprocessing/pool.py\u001b[0m in \u001b[0;36m_repopulate_pool\u001b[0;34m(self)\u001b[0m\n\u001b[1;32m    239\u001b[0m             \u001b[0mw\u001b[0m\u001b[0;34m.\u001b[0m\u001b[0mname\u001b[0m \u001b[0;34m=\u001b[0m \u001b[0mw\u001b[0m\u001b[0;34m.\u001b[0m\u001b[0mname\u001b[0m\u001b[0;34m.\u001b[0m\u001b[0mreplace\u001b[0m\u001b[0;34m(\u001b[0m\u001b[0;34m'Process'\u001b[0m\u001b[0;34m,\u001b[0m \u001b[0;34m'PoolWorker'\u001b[0m\u001b[0;34m)\u001b[0m\u001b[0;34m\u001b[0m\u001b[0;34m\u001b[0m\u001b[0m\n\u001b[1;32m    240\u001b[0m             \u001b[0mw\u001b[0m\u001b[0;34m.\u001b[0m\u001b[0mdaemon\u001b[0m \u001b[0;34m=\u001b[0m \u001b[0;32mTrue\u001b[0m\u001b[0;34m\u001b[0m\u001b[0;34m\u001b[0m\u001b[0m\n\u001b[0;32m--> 241\u001b[0;31m             \u001b[0mw\u001b[0m\u001b[0;34m.\u001b[0m\u001b[0mstart\u001b[0m\u001b[0;34m(\u001b[0m\u001b[0;34m)\u001b[0m\u001b[0;34m\u001b[0m\u001b[0;34m\u001b[0m\u001b[0m\n\u001b[0m\u001b[1;32m    242\u001b[0m             \u001b[0mutil\u001b[0m\u001b[0;34m.\u001b[0m\u001b[0mdebug\u001b[0m\u001b[0;34m(\u001b[0m\u001b[0;34m'added worker'\u001b[0m\u001b[0;34m)\u001b[0m\u001b[0;34m\u001b[0m\u001b[0;34m\u001b[0m\u001b[0m\n\u001b[1;32m    243\u001b[0m \u001b[0;34m\u001b[0m\u001b[0m\n",
      "\u001b[0;32m~/anaconda3/lib/python3.7/multiprocessing/process.py\u001b[0m in \u001b[0;36mstart\u001b[0;34m(self)\u001b[0m\n\u001b[1;32m    110\u001b[0m                \u001b[0;34m'daemonic processes are not allowed to have children'\u001b[0m\u001b[0;34m\u001b[0m\u001b[0;34m\u001b[0m\u001b[0m\n\u001b[1;32m    111\u001b[0m         \u001b[0m_cleanup\u001b[0m\u001b[0;34m(\u001b[0m\u001b[0;34m)\u001b[0m\u001b[0;34m\u001b[0m\u001b[0;34m\u001b[0m\u001b[0m\n\u001b[0;32m--> 112\u001b[0;31m         \u001b[0mself\u001b[0m\u001b[0;34m.\u001b[0m\u001b[0m_popen\u001b[0m \u001b[0;34m=\u001b[0m \u001b[0mself\u001b[0m\u001b[0;34m.\u001b[0m\u001b[0m_Popen\u001b[0m\u001b[0;34m(\u001b[0m\u001b[0mself\u001b[0m\u001b[0;34m)\u001b[0m\u001b[0;34m\u001b[0m\u001b[0;34m\u001b[0m\u001b[0m\n\u001b[0m\u001b[1;32m    113\u001b[0m         \u001b[0mself\u001b[0m\u001b[0;34m.\u001b[0m\u001b[0m_sentinel\u001b[0m \u001b[0;34m=\u001b[0m \u001b[0mself\u001b[0m\u001b[0;34m.\u001b[0m\u001b[0m_popen\u001b[0m\u001b[0;34m.\u001b[0m\u001b[0msentinel\u001b[0m\u001b[0;34m\u001b[0m\u001b[0;34m\u001b[0m\u001b[0m\n\u001b[1;32m    114\u001b[0m         \u001b[0;31m# Avoid a refcycle if the target function holds an indirect\u001b[0m\u001b[0;34m\u001b[0m\u001b[0;34m\u001b[0m\u001b[0;34m\u001b[0m\u001b[0m\n",
      "\u001b[0;32m~/anaconda3/lib/python3.7/multiprocessing/context.py\u001b[0m in \u001b[0;36m_Popen\u001b[0;34m(process_obj)\u001b[0m\n\u001b[1;32m    275\u001b[0m         \u001b[0;32mdef\u001b[0m \u001b[0m_Popen\u001b[0m\u001b[0;34m(\u001b[0m\u001b[0mprocess_obj\u001b[0m\u001b[0;34m)\u001b[0m\u001b[0;34m:\u001b[0m\u001b[0;34m\u001b[0m\u001b[0;34m\u001b[0m\u001b[0m\n\u001b[1;32m    276\u001b[0m             \u001b[0;32mfrom\u001b[0m \u001b[0;34m.\u001b[0m\u001b[0mpopen_fork\u001b[0m \u001b[0;32mimport\u001b[0m \u001b[0mPopen\u001b[0m\u001b[0;34m\u001b[0m\u001b[0;34m\u001b[0m\u001b[0m\n\u001b[0;32m--> 277\u001b[0;31m             \u001b[0;32mreturn\u001b[0m \u001b[0mPopen\u001b[0m\u001b[0;34m(\u001b[0m\u001b[0mprocess_obj\u001b[0m\u001b[0;34m)\u001b[0m\u001b[0;34m\u001b[0m\u001b[0;34m\u001b[0m\u001b[0m\n\u001b[0m\u001b[1;32m    278\u001b[0m \u001b[0;34m\u001b[0m\u001b[0m\n\u001b[1;32m    279\u001b[0m     \u001b[0;32mclass\u001b[0m \u001b[0mSpawnProcess\u001b[0m\u001b[0;34m(\u001b[0m\u001b[0mprocess\u001b[0m\u001b[0;34m.\u001b[0m\u001b[0mBaseProcess\u001b[0m\u001b[0;34m)\u001b[0m\u001b[0;34m:\u001b[0m\u001b[0;34m\u001b[0m\u001b[0;34m\u001b[0m\u001b[0m\n",
      "\u001b[0;32m~/anaconda3/lib/python3.7/multiprocessing/popen_fork.py\u001b[0m in \u001b[0;36m__init__\u001b[0;34m(self, process_obj)\u001b[0m\n\u001b[1;32m     18\u001b[0m         \u001b[0mself\u001b[0m\u001b[0;34m.\u001b[0m\u001b[0mreturncode\u001b[0m \u001b[0;34m=\u001b[0m \u001b[0;32mNone\u001b[0m\u001b[0;34m\u001b[0m\u001b[0;34m\u001b[0m\u001b[0m\n\u001b[1;32m     19\u001b[0m         \u001b[0mself\u001b[0m\u001b[0;34m.\u001b[0m\u001b[0mfinalizer\u001b[0m \u001b[0;34m=\u001b[0m \u001b[0;32mNone\u001b[0m\u001b[0;34m\u001b[0m\u001b[0;34m\u001b[0m\u001b[0m\n\u001b[0;32m---> 20\u001b[0;31m         \u001b[0mself\u001b[0m\u001b[0;34m.\u001b[0m\u001b[0m_launch\u001b[0m\u001b[0;34m(\u001b[0m\u001b[0mprocess_obj\u001b[0m\u001b[0;34m)\u001b[0m\u001b[0;34m\u001b[0m\u001b[0;34m\u001b[0m\u001b[0m\n\u001b[0m\u001b[1;32m     21\u001b[0m \u001b[0;34m\u001b[0m\u001b[0m\n\u001b[1;32m     22\u001b[0m     \u001b[0;32mdef\u001b[0m \u001b[0mduplicate_for_child\u001b[0m\u001b[0;34m(\u001b[0m\u001b[0mself\u001b[0m\u001b[0;34m,\u001b[0m \u001b[0mfd\u001b[0m\u001b[0;34m)\u001b[0m\u001b[0;34m:\u001b[0m\u001b[0;34m\u001b[0m\u001b[0;34m\u001b[0m\u001b[0m\n",
      "\u001b[0;32m~/anaconda3/lib/python3.7/multiprocessing/popen_fork.py\u001b[0m in \u001b[0;36m_launch\u001b[0;34m(self, process_obj)\u001b[0m\n\u001b[1;32m     68\u001b[0m         \u001b[0mcode\u001b[0m \u001b[0;34m=\u001b[0m \u001b[0;36m1\u001b[0m\u001b[0;34m\u001b[0m\u001b[0;34m\u001b[0m\u001b[0m\n\u001b[1;32m     69\u001b[0m         \u001b[0mparent_r\u001b[0m\u001b[0;34m,\u001b[0m \u001b[0mchild_w\u001b[0m \u001b[0;34m=\u001b[0m \u001b[0mos\u001b[0m\u001b[0;34m.\u001b[0m\u001b[0mpipe\u001b[0m\u001b[0;34m(\u001b[0m\u001b[0;34m)\u001b[0m\u001b[0;34m\u001b[0m\u001b[0;34m\u001b[0m\u001b[0m\n\u001b[0;32m---> 70\u001b[0;31m         \u001b[0mself\u001b[0m\u001b[0;34m.\u001b[0m\u001b[0mpid\u001b[0m \u001b[0;34m=\u001b[0m \u001b[0mos\u001b[0m\u001b[0;34m.\u001b[0m\u001b[0mfork\u001b[0m\u001b[0;34m(\u001b[0m\u001b[0;34m)\u001b[0m\u001b[0;34m\u001b[0m\u001b[0;34m\u001b[0m\u001b[0m\n\u001b[0m\u001b[1;32m     71\u001b[0m         \u001b[0;32mif\u001b[0m \u001b[0mself\u001b[0m\u001b[0;34m.\u001b[0m\u001b[0mpid\u001b[0m \u001b[0;34m==\u001b[0m \u001b[0;36m0\u001b[0m\u001b[0;34m:\u001b[0m\u001b[0;34m\u001b[0m\u001b[0;34m\u001b[0m\u001b[0m\n\u001b[1;32m     72\u001b[0m             \u001b[0;32mtry\u001b[0m\u001b[0;34m:\u001b[0m\u001b[0;34m\u001b[0m\u001b[0;34m\u001b[0m\u001b[0m\n",
      "\u001b[0;31mOSError\u001b[0m: [Errno 12] Cannot allocate memory"
     ]
    }
   ],
   "source": [
    "fingerprints = None\n",
    "i = 0\n",
    "for df in dfs:\n",
    "    i += 1\n",
    "    print(\"COMPLETED\", i / 100, datetime.now())\n",
    "    df['HO_TEN'] = df.HO + \" \" + df.DEM + \" \" + df.TEN\n",
    "    df.rename(columns={\n",
    "        \"NGAY\": \"NGAY_SINH\",\n",
    "        \"THANG\": \"THANG_SINH\",\n",
    "        \"NAM\": \"NAM_SINH\"\n",
    "    },\n",
    "              inplace=True)\n",
    "    records = np.array(df.to_dict('records'))\n",
    "    num_cpu = cpu_count()\n",
    "    blocks = np.split(records, num_cpu)\n",
    "    p = Pool(num_cpu)\n",
    "    fingerprint = np.concatenate(p.map(encode_vectorize, blocks))\n",
    "    p.close()\n",
    "    p.join()\n",
    "    fingerprint = [np.array(i.split()).astype(bool) for i in fingerprint]\n",
    "    fingerprint = np.array(fingerprint)\n",
    "    if type(fingerprints) == type(None):\n",
    "        fingerprints = np.copy(fingerprint)\n",
    "    else:\n",
    "        fingerprints = np.concatenate((fingerprints, fingerprint))"
   ]
  },
  {
   "cell_type": "code",
   "execution_count": 12,
   "metadata": {
    "ExecuteTime": {
     "end_time": "2019-08-13T06:44:57.344985Z",
     "start_time": "2019-08-13T06:44:57.328478Z"
    }
   },
   "outputs": [
    {
     "data": {
      "text/plain": [
       "5300000"
      ]
     },
     "execution_count": 12,
     "metadata": {},
     "output_type": "execute_result"
    }
   ],
   "source": [
    "len(fingerprints)"
   ]
  },
  {
   "cell_type": "code",
   "execution_count": 38,
   "metadata": {
    "ExecuteTime": {
     "end_time": "2019-08-13T08:12:31.250285Z",
     "start_time": "2019-08-13T08:12:31.236664Z"
    }
   },
   "outputs": [
    {
     "name": "stdout",
     "output_type": "stream",
     "text": [
      "                           ___:  2.6 KiB\n",
      "                           _30:  2.6 KiB\n",
      "                  MultibitTree:  1.0 KiB\n",
      "                           _oh:  648.0 B\n",
      "                           Out:  648.0 B\n",
      "                            _i:  587.0 B\n",
      "                           _i7:  587.0 B\n",
      "                           _i8:  587.0 B\n",
      "                           _i9:  587.0 B\n",
      "                          _i37:  587.0 B\n"
     ]
    }
   ],
   "source": [
    "import sys\n",
    "\n",
    "\n",
    "def sizeof_fmt(num, suffix='B'):\n",
    "    ''' by Fred Cirera,  https://stackoverflow.com/a/1094933/1870254, modified'''\n",
    "    for unit in ['', 'Ki', 'Mi', 'Gi', 'Ti', 'Pi', 'Ei', 'Zi']:\n",
    "        if abs(num) < 1024.0:\n",
    "            return \"%3.1f %s%s\" % (num, unit, suffix)\n",
    "        num /= 1024.0\n",
    "    return \"%.1f %s%s\" % (num, 'Yi', suffix)\n",
    "\n",
    "\n",
    "for name, size in sorted(\n",
    "    ((name, sys.getsizeof(value)) for name, value in locals().items()),\n",
    "        key=lambda x: -x[1])[:10]:\n",
    "    print(\"{:>30}: {:>8}\".format(name, sizeof_fmt(size)))"
   ]
  },
  {
   "cell_type": "code",
   "execution_count": 17,
   "metadata": {
    "ExecuteTime": {
     "end_time": "2019-08-13T06:57:34.460050Z",
     "start_time": "2019-08-13T06:55:32.211943Z"
    }
   },
   "outputs": [],
   "source": [
    "import pickle\n",
    "with open('fingerprints.pickle', 'wb') as handle:\n",
    "    pickle.dump(fingerprints, handle, protocol=pickle.HIGHEST_PROTOCOL)"
   ]
  },
  {
   "cell_type": "markdown",
   "metadata": {
    "ExecuteTime": {
     "end_time": "2019-08-13T02:16:30.334235Z",
     "start_time": "2019-08-13T02:16:30.325203Z"
    }
   },
   "source": [
    "## Generate Multibit Tree"
   ]
  },
  {
   "cell_type": "code",
   "execution_count": 2,
   "metadata": {
    "ExecuteTime": {
     "end_time": "2019-08-14T02:20:33.531662Z",
     "start_time": "2019-08-14T02:20:33.528289Z"
    }
   },
   "outputs": [],
   "source": [
    "import pickle\n",
    "with open(\"./fingerprints.pickle\", 'rb') as handle:\n",
    "    fingerprints = pickle.load(handle)"
   ]
  },
  {
   "cell_type": "code",
   "execution_count": 3,
   "metadata": {
    "ExecuteTime": {
     "end_time": "2019-08-14T02:20:43.247443Z",
     "start_time": "2019-08-14T02:20:33.899425Z"
    }
   },
   "outputs": [],
   "source": []
  },
  {
   "cell_type": "code",
   "execution_count": 4,
   "metadata": {
    "ExecuteTime": {
     "end_time": "2019-08-14T02:20:44.166759Z",
     "start_time": "2019-08-14T02:20:43.248585Z"
    }
   },
   "outputs": [],
   "source": [
    "from tree import MultibitTree"
   ]
  },
  {
   "cell_type": "code",
   "execution_count": 5,
   "metadata": {
    "ExecuteTime": {
     "end_time": "2019-08-14T02:20:44.172920Z",
     "start_time": "2019-08-14T02:20:44.169641Z"
    }
   },
   "outputs": [],
   "source": [
    "tree = MultibitTree(fingerprints)"
   ]
  },
  {
   "cell_type": "code",
   "execution_count": 6,
   "metadata": {
    "ExecuteTime": {
     "end_time": "2019-08-14T02:22:09.164006Z",
     "start_time": "2019-08-14T02:20:44.175368Z"
    }
   },
   "outputs": [],
   "source": [
    "tree.build_tree()"
   ]
  },
  {
   "cell_type": "code",
   "execution_count": 37,
   "metadata": {
    "ExecuteTime": {
     "end_time": "2019-08-13T11:24:41.660168Z",
     "start_time": "2019-08-13T11:24:41.658347Z"
    }
   },
   "outputs": [],
   "source": [
    "import sys"
   ]
  },
  {
   "cell_type": "code",
   "execution_count": 20,
   "metadata": {
    "ExecuteTime": {
     "end_time": "2019-08-13T08:02:01.567662Z",
     "start_time": "2019-08-13T08:01:45.055998Z"
    }
   },
   "outputs": [],
   "source": [
    "with open('tree.pickle', 'wb') as handle:\n",
    "    pickle.dump(tree, handle, protocol=pickle.HIGHEST_PROTOCOL)"
   ]
  },
  {
   "cell_type": "code",
   "execution_count": 53,
   "metadata": {
    "ExecuteTime": {
     "end_time": "2019-08-14T02:36:12.963971Z",
     "start_time": "2019-08-14T02:36:12.960515Z"
    }
   },
   "outputs": [],
   "source": [
    "root_node = tree.tree"
   ]
  },
  {
   "cell_type": "markdown",
   "metadata": {},
   "source": [
    "## Get 1 sample bucket (left side)"
   ]
  },
  {
   "cell_type": "code",
   "execution_count": 54,
   "metadata": {
    "ExecuteTime": {
     "end_time": "2019-08-14T02:36:13.556757Z",
     "start_time": "2019-08-14T02:36:13.550856Z"
    }
   },
   "outputs": [
    {
     "data": {
      "text/plain": [
       "249"
      ]
     },
     "execution_count": 54,
     "metadata": {},
     "output_type": "execute_result"
    }
   ],
   "source": [
    "root_node.root.idx"
   ]
  },
  {
   "cell_type": "code",
   "execution_count": 55,
   "metadata": {
    "ExecuteTime": {
     "end_time": "2019-08-14T02:36:13.917727Z",
     "start_time": "2019-08-14T02:36:13.908350Z"
    }
   },
   "outputs": [
    {
     "name": "stdout",
     "output_type": "stream",
     "text": [
      "2641022\n",
      "1319737\n",
      "660310\n",
      "329842\n",
      "164159\n",
      "81812\n",
      "40906\n",
      "20496\n",
      "10262\n",
      "5116\n",
      "2630\n",
      "1358\n"
     ]
    }
   ],
   "source": [
    "for i in range(12):\n",
    "    if np.random.rand() > 0.5:\n",
    "        root_node = root_node.i_child\n",
    "    else:\n",
    "        root_node = root_node.o_child\n",
    "    print(root_node.root.num_idx)"
   ]
  },
  {
   "cell_type": "code",
   "execution_count": 56,
   "metadata": {
    "ExecuteTime": {
     "end_time": "2019-08-14T02:36:19.414728Z",
     "start_time": "2019-08-14T02:36:19.408308Z"
    }
   },
   "outputs": [
    {
     "name": "stdout",
     "output_type": "stream",
     "text": [
      "[<tree.Tree object at 0x7fdd867e36d8>, <tree.Tree object at 0x7fdd867e38d0>]\n",
      "<tree.Tree object at 0x7fdd867e36d8>\n",
      "<tree.Tree object at 0x7fdd867e38d0>\n",
      "<tree.Tree object at 0x7fdd867e3780>\n",
      "<tree.Tree object at 0x7fdd867e37b8>\n",
      "<tree.Tree object at 0x7fdd867e3978>\n",
      "<tree.Tree object at 0x7fdd867e39b0>\n",
      "<tree.Tree object at 0x7fdd867e3860>\n",
      "<tree.Tree object at 0x7fdd867e3898>\n"
     ]
    }
   ],
   "source": [
    "res = root_node.get_fingerprint_idx()"
   ]
  },
  {
   "cell_type": "code",
   "execution_count": 13,
   "metadata": {
    "ExecuteTime": {
     "end_time": "2019-08-14T02:24:07.679044Z",
     "start_time": "2019-08-14T02:24:07.675411Z"
    }
   },
   "outputs": [],
   "source": [
    "import numpy as np"
   ]
  },
  {
   "cell_type": "code",
   "execution_count": 57,
   "metadata": {
    "ExecuteTime": {
     "end_time": "2019-08-14T02:36:24.289923Z",
     "start_time": "2019-08-14T02:36:24.286172Z"
    }
   },
   "outputs": [],
   "source": [
    "bucket_idx = np.concatenate(res)"
   ]
  },
  {
   "cell_type": "code",
   "execution_count": 58,
   "metadata": {
    "ExecuteTime": {
     "end_time": "2019-08-14T02:36:24.700369Z",
     "start_time": "2019-08-14T02:36:24.693493Z"
    }
   },
   "outputs": [
    {
     "data": {
      "text/plain": [
       "array([  78257,   82424,   86591, ..., 5278798, 5295466, 5299633])"
      ]
     },
     "execution_count": 58,
     "metadata": {},
     "output_type": "execute_result"
    }
   ],
   "source": [
    "bucket_idx"
   ]
  },
  {
   "cell_type": "code",
   "execution_count": 59,
   "metadata": {
    "ExecuteTime": {
     "end_time": "2019-08-14T02:36:32.498580Z",
     "start_time": "2019-08-14T02:36:32.493402Z"
    },
    "scrolled": false
   },
   "outputs": [
    {
     "data": {
      "text/plain": [
       "1358"
      ]
     },
     "execution_count": 59,
     "metadata": {},
     "output_type": "execute_result"
    }
   ],
   "source": [
    "root_node.root.num_idx"
   ]
  },
  {
   "cell_type": "code",
   "execution_count": 60,
   "metadata": {
    "ExecuteTime": {
     "end_time": "2019-08-14T02:36:35.429482Z",
     "start_time": "2019-08-14T02:36:35.423801Z"
    }
   },
   "outputs": [
    {
     "data": {
      "text/plain": [
       "<tree.Tree at 0x7fdd867e3630>"
      ]
     },
     "execution_count": 60,
     "metadata": {},
     "output_type": "execute_result"
    }
   ],
   "source": [
    "root_node"
   ]
  },
  {
   "cell_type": "code",
   "execution_count": 44,
   "metadata": {
    "ExecuteTime": {
     "end_time": "2019-08-13T08:19:43.289033Z",
     "start_time": "2019-08-13T08:19:43.285249Z"
    },
    "scrolled": true
   },
   "outputs": [],
   "source": [
    "bucket_idx = root_node.root.fingerprint_indices"
   ]
  },
  {
   "cell_type": "code",
   "execution_count": 33,
   "metadata": {
    "ExecuteTime": {
     "end_time": "2019-08-13T08:09:57.144698Z",
     "start_time": "2019-08-13T08:09:57.139183Z"
    }
   },
   "outputs": [],
   "source": [
    "with open('bucket_sample.pickle', 'wb') as handle:\n",
    "    pickle.dump(root_node.root.fingerprint_indices,\n",
    "                handle,\n",
    "                protocol=pickle.HIGHEST_PROTOCOL)"
   ]
  },
  {
   "cell_type": "code",
   "execution_count": 34,
   "metadata": {
    "ExecuteTime": {
     "end_time": "2019-08-13T08:10:14.522426Z",
     "start_time": "2019-08-13T08:10:14.516284Z"
    }
   },
   "outputs": [
    {
     "data": {
      "text/plain": [
       "5300000"
      ]
     },
     "execution_count": 34,
     "metadata": {},
     "output_type": "execute_result"
    }
   ],
   "source": [
    "len(fingerprints)"
   ]
  },
  {
   "cell_type": "code",
   "execution_count": 61,
   "metadata": {
    "ExecuteTime": {
     "end_time": "2019-08-14T02:36:50.104248Z",
     "start_time": "2019-08-14T02:36:50.096175Z"
    }
   },
   "outputs": [],
   "source": [
    "# Test performance\n",
    "import pandas as pd\n",
    "dfs = pd.read_csv(\"./data/new_record2.csv\", chunksize=100000)\n"
   ]
  },
  {
   "cell_type": "code",
   "execution_count": 62,
   "metadata": {
    "ExecuteTime": {
     "end_time": "2019-08-14T02:37:00.537009Z",
     "start_time": "2019-08-14T02:36:50.432627Z"
    }
   },
   "outputs": [],
   "source": [
    "bucket_records = []\n",
    "for i, df in enumerate(dfs):\n",
    "    start_idx = i * 100000    \n",
    "    chosen_idx = bucket_idx[(bucket_idx>= start_idx)&(bucket_idx<start_idx+100000)]\n",
    "    bucket_records.append(df.iloc[chosen_idx - start_idx])"
   ]
  },
  {
   "cell_type": "code",
   "execution_count": 63,
   "metadata": {
    "ExecuteTime": {
     "end_time": "2019-08-14T02:37:00.593743Z",
     "start_time": "2019-08-14T02:37:00.538228Z"
    }
   },
   "outputs": [
    {
     "data": {
      "text/html": [
       "<div>\n",
       "<style scoped>\n",
       "    .dataframe tbody tr th:only-of-type {\n",
       "        vertical-align: middle;\n",
       "    }\n",
       "\n",
       "    .dataframe tbody tr th {\n",
       "        vertical-align: top;\n",
       "    }\n",
       "\n",
       "    .dataframe thead th {\n",
       "        text-align: right;\n",
       "    }\n",
       "</style>\n",
       "<table border=\"1\" class=\"dataframe\">\n",
       "  <thead>\n",
       "    <tr style=\"text-align: right;\">\n",
       "      <th></th>\n",
       "      <th>Unnamed: 0</th>\n",
       "      <th>GIOI_TINH</th>\n",
       "      <th>MA_TINH_KS</th>\n",
       "      <th>MA_HUYEN_KS</th>\n",
       "      <th>MA_XA_KS</th>\n",
       "      <th>SO_CMTND</th>\n",
       "      <th>HO</th>\n",
       "      <th>DEM</th>\n",
       "      <th>TEN</th>\n",
       "      <th>NGAY</th>\n",
       "      <th>THANG</th>\n",
       "      <th>NAM</th>\n",
       "    </tr>\n",
       "  </thead>\n",
       "  <tbody>\n",
       "    <tr>\n",
       "      <th>78257</th>\n",
       "      <td>78257</td>\n",
       "      <td>1</td>\n",
       "      <td>41TTT</td>\n",
       "      <td>137HH</td>\n",
       "      <td>17230</td>\n",
       "      <td>41214891479</td>\n",
       "      <td>Nguyễn</td>\n",
       "      <td>Văn</td>\n",
       "      <td>Thành</td>\n",
       "      <td>26</td>\n",
       "      <td>1</td>\n",
       "      <td>1914</td>\n",
       "    </tr>\n",
       "    <tr>\n",
       "      <th>82424</th>\n",
       "      <td>82424</td>\n",
       "      <td>1</td>\n",
       "      <td>39TTT</td>\n",
       "      <td>172HH</td>\n",
       "      <td>18965</td>\n",
       "      <td>39273490939</td>\n",
       "      <td>Park</td>\n",
       "      <td>Xuân</td>\n",
       "      <td>Nga</td>\n",
       "      <td>31</td>\n",
       "      <td>5</td>\n",
       "      <td>1973</td>\n",
       "    </tr>\n",
       "    <tr>\n",
       "      <th>86591</th>\n",
       "      <td>86591</td>\n",
       "      <td>1</td>\n",
       "      <td>39TTT</td>\n",
       "      <td>172HH</td>\n",
       "      <td>18965</td>\n",
       "      <td>39273490939</td>\n",
       "      <td>Park</td>\n",
       "      <td>Xuân</td>\n",
       "      <td>Nga</td>\n",
       "      <td>31</td>\n",
       "      <td>5</td>\n",
       "      <td>1973</td>\n",
       "    </tr>\n",
       "    <tr>\n",
       "      <th>90758</th>\n",
       "      <td>90758</td>\n",
       "      <td>1</td>\n",
       "      <td>08TTT</td>\n",
       "      <td>170HH</td>\n",
       "      <td>5612</td>\n",
       "      <td>8221428471</td>\n",
       "      <td>Đoàn</td>\n",
       "      <td>Thị Linh</td>\n",
       "      <td>Anh</td>\n",
       "      <td>29</td>\n",
       "      <td>1</td>\n",
       "      <td>1921</td>\n",
       "    </tr>\n",
       "    <tr>\n",
       "      <th>94925</th>\n",
       "      <td>94925</td>\n",
       "      <td>1</td>\n",
       "      <td>39TTT</td>\n",
       "      <td>172HH</td>\n",
       "      <td>18965</td>\n",
       "      <td>39273490939</td>\n",
       "      <td>Park</td>\n",
       "      <td>Xuân</td>\n",
       "      <td>Nga</td>\n",
       "      <td>31</td>\n",
       "      <td>5</td>\n",
       "      <td>1973</td>\n",
       "    </tr>\n",
       "    <tr>\n",
       "      <th>99092</th>\n",
       "      <td>99092</td>\n",
       "      <td>1</td>\n",
       "      <td>39TTT</td>\n",
       "      <td>172HH</td>\n",
       "      <td>18965</td>\n",
       "      <td>39273490939</td>\n",
       "      <td>Park</td>\n",
       "      <td>Xuân</td>\n",
       "      <td>Nga</td>\n",
       "      <td>31</td>\n",
       "      <td>5</td>\n",
       "      <td>1973</td>\n",
       "    </tr>\n",
       "    <tr>\n",
       "      <th>76903</th>\n",
       "      <td>76903</td>\n",
       "      <td>1</td>\n",
       "      <td>57TTT</td>\n",
       "      <td>085HH</td>\n",
       "      <td>9261</td>\n",
       "      <td>57014548208</td>\n",
       "      <td>Đỗ</td>\n",
       "      <td>Ngọc</td>\n",
       "      <td>Thoa</td>\n",
       "      <td>31</td>\n",
       "      <td>8</td>\n",
       "      <td>2014</td>\n",
       "    </tr>\n",
       "    <tr>\n",
       "      <th>81070</th>\n",
       "      <td>81070</td>\n",
       "      <td>0</td>\n",
       "      <td>53TTT</td>\n",
       "      <td>015HH</td>\n",
       "      <td>14371</td>\n",
       "      <td>53106272395</td>\n",
       "      <td>Phạm</td>\n",
       "      <td>Duy</td>\n",
       "      <td>Liên</td>\n",
       "      <td>12</td>\n",
       "      <td>4</td>\n",
       "      <td>2006</td>\n",
       "    </tr>\n",
       "    <tr>\n",
       "      <th>85237</th>\n",
       "      <td>85237</td>\n",
       "      <td>0</td>\n",
       "      <td>53TTT</td>\n",
       "      <td>015HH</td>\n",
       "      <td>14371</td>\n",
       "      <td>53106272395</td>\n",
       "      <td>Phạm</td>\n",
       "      <td>Duy</td>\n",
       "      <td>Liên</td>\n",
       "      <td>12</td>\n",
       "      <td>4</td>\n",
       "      <td>2006</td>\n",
       "    </tr>\n",
       "    <tr>\n",
       "      <th>89404</th>\n",
       "      <td>89404</td>\n",
       "      <td>0</td>\n",
       "      <td>55TTT</td>\n",
       "      <td>200HH</td>\n",
       "      <td>2781</td>\n",
       "      <td>55113471619</td>\n",
       "      <td>Vũ</td>\n",
       "      <td>Thị</td>\n",
       "      <td>Quang</td>\n",
       "      <td>7</td>\n",
       "      <td>2</td>\n",
       "      <td>2013</td>\n",
       "    </tr>\n",
       "    <tr>\n",
       "      <th>93571</th>\n",
       "      <td>93571</td>\n",
       "      <td>0</td>\n",
       "      <td>53TTT</td>\n",
       "      <td>015HH</td>\n",
       "      <td>14371</td>\n",
       "      <td>53106272395</td>\n",
       "      <td>Phạm</td>\n",
       "      <td>Duy</td>\n",
       "      <td>Liên</td>\n",
       "      <td>12</td>\n",
       "      <td>4</td>\n",
       "      <td>2006</td>\n",
       "    </tr>\n",
       "    <tr>\n",
       "      <th>97738</th>\n",
       "      <td>97738</td>\n",
       "      <td>0</td>\n",
       "      <td>53TTT</td>\n",
       "      <td>015HH</td>\n",
       "      <td>14371</td>\n",
       "      <td>53106272395</td>\n",
       "      <td>Phạm</td>\n",
       "      <td>Duy</td>\n",
       "      <td>Liên</td>\n",
       "      <td>12</td>\n",
       "      <td>4</td>\n",
       "      <td>2006</td>\n",
       "    </tr>\n",
       "    <tr>\n",
       "      <th>26030</th>\n",
       "      <td>26030</td>\n",
       "      <td>0</td>\n",
       "      <td>36TTT</td>\n",
       "      <td>040HH</td>\n",
       "      <td>8983</td>\n",
       "      <td>36105490122</td>\n",
       "      <td>Phạm</td>\n",
       "      <td>Thùy</td>\n",
       "      <td>Liên</td>\n",
       "      <td>14</td>\n",
       "      <td>3</td>\n",
       "      <td>2005</td>\n",
       "    </tr>\n",
       "    <tr>\n",
       "      <th>30197</th>\n",
       "      <td>30197</td>\n",
       "      <td>0</td>\n",
       "      <td>36TTT</td>\n",
       "      <td>040HH</td>\n",
       "      <td>8983</td>\n",
       "      <td>36105490122</td>\n",
       "      <td>Phạm</td>\n",
       "      <td>Thùy</td>\n",
       "      <td>Liên</td>\n",
       "      <td>14</td>\n",
       "      <td>3</td>\n",
       "      <td>2005</td>\n",
       "    </tr>\n",
       "    <tr>\n",
       "      <th>34364</th>\n",
       "      <td>34364</td>\n",
       "      <td>0</td>\n",
       "      <td>36TTT</td>\n",
       "      <td>040HH</td>\n",
       "      <td>8983</td>\n",
       "      <td>36105490122</td>\n",
       "      <td>Phạm</td>\n",
       "      <td>Thùy</td>\n",
       "      <td>Liên</td>\n",
       "      <td>14</td>\n",
       "      <td>3</td>\n",
       "      <td>2005</td>\n",
       "    </tr>\n",
       "    <tr>\n",
       "      <th>38531</th>\n",
       "      <td>38531</td>\n",
       "      <td>0</td>\n",
       "      <td>36TTT</td>\n",
       "      <td>040HH</td>\n",
       "      <td>8983</td>\n",
       "      <td>36105490122</td>\n",
       "      <td>Phạm</td>\n",
       "      <td>Thùy</td>\n",
       "      <td>Liên</td>\n",
       "      <td>14</td>\n",
       "      <td>3</td>\n",
       "      <td>2005</td>\n",
       "    </tr>\n",
       "    <tr>\n",
       "      <th>42698</th>\n",
       "      <td>42698</td>\n",
       "      <td>0</td>\n",
       "      <td>36TTT</td>\n",
       "      <td>040HH</td>\n",
       "      <td>8983</td>\n",
       "      <td>36105490122</td>\n",
       "      <td>Phạm</td>\n",
       "      <td>Thùy</td>\n",
       "      <td>Liên</td>\n",
       "      <td>14</td>\n",
       "      <td>3</td>\n",
       "      <td>2005</td>\n",
       "    </tr>\n",
       "    <tr>\n",
       "      <th>46865</th>\n",
       "      <td>46865</td>\n",
       "      <td>0</td>\n",
       "      <td>36TTT</td>\n",
       "      <td>040HH</td>\n",
       "      <td>8983</td>\n",
       "      <td>36105490122</td>\n",
       "      <td>Phạm</td>\n",
       "      <td>Thùy</td>\n",
       "      <td>Liên</td>\n",
       "      <td>14</td>\n",
       "      <td>3</td>\n",
       "      <td>2005</td>\n",
       "    </tr>\n",
       "    <tr>\n",
       "      <th>77268</th>\n",
       "      <td>77268</td>\n",
       "      <td>1</td>\n",
       "      <td>59TTT</td>\n",
       "      <td>207HH</td>\n",
       "      <td>15118</td>\n",
       "      <td>59248930546</td>\n",
       "      <td>Nguyễn</td>\n",
       "      <td>Thị</td>\n",
       "      <td>Thăng</td>\n",
       "      <td>6</td>\n",
       "      <td>3</td>\n",
       "      <td>1948</td>\n",
       "    </tr>\n",
       "    <tr>\n",
       "      <th>81435</th>\n",
       "      <td>81435</td>\n",
       "      <td>1</td>\n",
       "      <td>28TTT</td>\n",
       "      <td>061HH</td>\n",
       "      <td>17545</td>\n",
       "      <td>28230608587</td>\n",
       "      <td>Phạm</td>\n",
       "      <td>Nhật</td>\n",
       "      <td>Nghĩa</td>\n",
       "      <td>15</td>\n",
       "      <td>6</td>\n",
       "      <td>1930</td>\n",
       "    </tr>\n",
       "    <tr>\n",
       "      <th>85602</th>\n",
       "      <td>85602</td>\n",
       "      <td>1</td>\n",
       "      <td>28TTT</td>\n",
       "      <td>061HH</td>\n",
       "      <td>17545</td>\n",
       "      <td>28230608587</td>\n",
       "      <td>Phạm</td>\n",
       "      <td>Nhật</td>\n",
       "      <td>Nghĩa</td>\n",
       "      <td>15</td>\n",
       "      <td>6</td>\n",
       "      <td>1930</td>\n",
       "    </tr>\n",
       "    <tr>\n",
       "      <th>89769</th>\n",
       "      <td>89769</td>\n",
       "      <td>1</td>\n",
       "      <td>14TTT</td>\n",
       "      <td>028HH</td>\n",
       "      <td>16475</td>\n",
       "      <td>14216057897</td>\n",
       "      <td>Nguyễn</td>\n",
       "      <td>Trần</td>\n",
       "      <td>Tuấn</td>\n",
       "      <td>30</td>\n",
       "      <td>2</td>\n",
       "      <td>1916</td>\n",
       "    </tr>\n",
       "    <tr>\n",
       "      <th>93936</th>\n",
       "      <td>93936</td>\n",
       "      <td>1</td>\n",
       "      <td>28TTT</td>\n",
       "      <td>061HH</td>\n",
       "      <td>17545</td>\n",
       "      <td>28230608587</td>\n",
       "      <td>Phạm</td>\n",
       "      <td>Nhật</td>\n",
       "      <td>Nghĩa</td>\n",
       "      <td>15</td>\n",
       "      <td>6</td>\n",
       "      <td>1930</td>\n",
       "    </tr>\n",
       "    <tr>\n",
       "      <th>98103</th>\n",
       "      <td>98103</td>\n",
       "      <td>1</td>\n",
       "      <td>28TTT</td>\n",
       "      <td>061HH</td>\n",
       "      <td>17545</td>\n",
       "      <td>28230608587</td>\n",
       "      <td>Phạm</td>\n",
       "      <td>Nhật</td>\n",
       "      <td>Nghĩa</td>\n",
       "      <td>15</td>\n",
       "      <td>6</td>\n",
       "      <td>1930</td>\n",
       "    </tr>\n",
       "    <tr>\n",
       "      <th>78798</th>\n",
       "      <td>78798</td>\n",
       "      <td>1</td>\n",
       "      <td>36TTT</td>\n",
       "      <td>057HH</td>\n",
       "      <td>10607</td>\n",
       "      <td>36297533731</td>\n",
       "      <td>Nguyễn</td>\n",
       "      <td>Thi</td>\n",
       "      <td>Thu</td>\n",
       "      <td>2</td>\n",
       "      <td>11</td>\n",
       "      <td>1997</td>\n",
       "    </tr>\n",
       "    <tr>\n",
       "      <th>82965</th>\n",
       "      <td>82965</td>\n",
       "      <td>0</td>\n",
       "      <td>17TTT</td>\n",
       "      <td>092HH</td>\n",
       "      <td>3826</td>\n",
       "      <td>17384915007</td>\n",
       "      <td>Lê</td>\n",
       "      <td>Gia</td>\n",
       "      <td>Nghĩa</td>\n",
       "      <td>16</td>\n",
       "      <td>2</td>\n",
       "      <td>1984</td>\n",
       "    </tr>\n",
       "    <tr>\n",
       "      <th>87132</th>\n",
       "      <td>87132</td>\n",
       "      <td>0</td>\n",
       "      <td>17TTT</td>\n",
       "      <td>092HH</td>\n",
       "      <td>3826</td>\n",
       "      <td>17384915007</td>\n",
       "      <td>Lê</td>\n",
       "      <td>Gia</td>\n",
       "      <td>Nghĩa</td>\n",
       "      <td>16</td>\n",
       "      <td>2</td>\n",
       "      <td>1984</td>\n",
       "    </tr>\n",
       "    <tr>\n",
       "      <th>91299</th>\n",
       "      <td>91299</td>\n",
       "      <td>1</td>\n",
       "      <td>07TTT</td>\n",
       "      <td>041HH</td>\n",
       "      <td>6257</td>\n",
       "      <td>7244271153</td>\n",
       "      <td>Lê</td>\n",
       "      <td>Việt</td>\n",
       "      <td>Nguyệt</td>\n",
       "      <td>6</td>\n",
       "      <td>6</td>\n",
       "      <td>1944</td>\n",
       "    </tr>\n",
       "    <tr>\n",
       "      <th>95466</th>\n",
       "      <td>95466</td>\n",
       "      <td>0</td>\n",
       "      <td>17TTT</td>\n",
       "      <td>092HH</td>\n",
       "      <td>3826</td>\n",
       "      <td>17384915007</td>\n",
       "      <td>Lê</td>\n",
       "      <td>Gia</td>\n",
       "      <td>Nghĩa</td>\n",
       "      <td>16</td>\n",
       "      <td>2</td>\n",
       "      <td>1984</td>\n",
       "    </tr>\n",
       "    <tr>\n",
       "      <th>99633</th>\n",
       "      <td>99633</td>\n",
       "      <td>0</td>\n",
       "      <td>17TTT</td>\n",
       "      <td>092HH</td>\n",
       "      <td>3826</td>\n",
       "      <td>17384915007</td>\n",
       "      <td>Lê</td>\n",
       "      <td>Gia</td>\n",
       "      <td>Nghĩa</td>\n",
       "      <td>16</td>\n",
       "      <td>2</td>\n",
       "      <td>1984</td>\n",
       "    </tr>\n",
       "    <tr>\n",
       "      <th>...</th>\n",
       "      <td>...</td>\n",
       "      <td>...</td>\n",
       "      <td>...</td>\n",
       "      <td>...</td>\n",
       "      <td>...</td>\n",
       "      <td>...</td>\n",
       "      <td>...</td>\n",
       "      <td>...</td>\n",
       "      <td>...</td>\n",
       "      <td>...</td>\n",
       "      <td>...</td>\n",
       "      <td>...</td>\n",
       "    </tr>\n",
       "    <tr>\n",
       "      <th>5193936</th>\n",
       "      <td>93936</td>\n",
       "      <td>1</td>\n",
       "      <td>14TTT</td>\n",
       "      <td>028HH</td>\n",
       "      <td>16475</td>\n",
       "      <td>14216057897</td>\n",
       "      <td>Nguyễn</td>\n",
       "      <td>Trần</td>\n",
       "      <td>Tuấn</td>\n",
       "      <td>30</td>\n",
       "      <td>2</td>\n",
       "      <td>1916</td>\n",
       "    </tr>\n",
       "    <tr>\n",
       "      <th>5198103</th>\n",
       "      <td>98103</td>\n",
       "      <td>1</td>\n",
       "      <td>28TTT</td>\n",
       "      <td>061HH</td>\n",
       "      <td>17545</td>\n",
       "      <td>28230608587</td>\n",
       "      <td>Phạm</td>\n",
       "      <td>Nhật</td>\n",
       "      <td>Nghĩa</td>\n",
       "      <td>15</td>\n",
       "      <td>6</td>\n",
       "      <td>1930</td>\n",
       "    </tr>\n",
       "    <tr>\n",
       "      <th>5178798</th>\n",
       "      <td>78798</td>\n",
       "      <td>1</td>\n",
       "      <td>36TTT</td>\n",
       "      <td>057HH</td>\n",
       "      <td>10607</td>\n",
       "      <td>36297533731</td>\n",
       "      <td>Nguyễn</td>\n",
       "      <td>Thi</td>\n",
       "      <td>Thu</td>\n",
       "      <td>2</td>\n",
       "      <td>11</td>\n",
       "      <td>1997</td>\n",
       "    </tr>\n",
       "    <tr>\n",
       "      <th>5182965</th>\n",
       "      <td>82965</td>\n",
       "      <td>1</td>\n",
       "      <td>36TTT</td>\n",
       "      <td>057HH</td>\n",
       "      <td>10607</td>\n",
       "      <td>36297533731</td>\n",
       "      <td>Nguyễn</td>\n",
       "      <td>Thi</td>\n",
       "      <td>Thu</td>\n",
       "      <td>2</td>\n",
       "      <td>11</td>\n",
       "      <td>1997</td>\n",
       "    </tr>\n",
       "    <tr>\n",
       "      <th>5187132</th>\n",
       "      <td>87132</td>\n",
       "      <td>0</td>\n",
       "      <td>17TTT</td>\n",
       "      <td>092HH</td>\n",
       "      <td>3826</td>\n",
       "      <td>17384915007</td>\n",
       "      <td>Lê</td>\n",
       "      <td>Gia</td>\n",
       "      <td>Nghĩa</td>\n",
       "      <td>16</td>\n",
       "      <td>2</td>\n",
       "      <td>1984</td>\n",
       "    </tr>\n",
       "    <tr>\n",
       "      <th>5191299</th>\n",
       "      <td>91299</td>\n",
       "      <td>0</td>\n",
       "      <td>17TTT</td>\n",
       "      <td>092HH</td>\n",
       "      <td>3826</td>\n",
       "      <td>17384915007</td>\n",
       "      <td>Lê</td>\n",
       "      <td>Gia</td>\n",
       "      <td>Nghĩa</td>\n",
       "      <td>16</td>\n",
       "      <td>2</td>\n",
       "      <td>1984</td>\n",
       "    </tr>\n",
       "    <tr>\n",
       "      <th>5195466</th>\n",
       "      <td>95466</td>\n",
       "      <td>1</td>\n",
       "      <td>07TTT</td>\n",
       "      <td>041HH</td>\n",
       "      <td>6257</td>\n",
       "      <td>7244271153</td>\n",
       "      <td>Lê</td>\n",
       "      <td>Việt</td>\n",
       "      <td>Nguyệt</td>\n",
       "      <td>6</td>\n",
       "      <td>6</td>\n",
       "      <td>1944</td>\n",
       "    </tr>\n",
       "    <tr>\n",
       "      <th>5199633</th>\n",
       "      <td>99633</td>\n",
       "      <td>0</td>\n",
       "      <td>17TTT</td>\n",
       "      <td>092HH</td>\n",
       "      <td>3826</td>\n",
       "      <td>17384915007</td>\n",
       "      <td>Lê</td>\n",
       "      <td>Gia</td>\n",
       "      <td>Nghĩa</td>\n",
       "      <td>16</td>\n",
       "      <td>2</td>\n",
       "      <td>1984</td>\n",
       "    </tr>\n",
       "    <tr>\n",
       "      <th>5265756</th>\n",
       "      <td>65756</td>\n",
       "      <td>1</td>\n",
       "      <td>41TTT</td>\n",
       "      <td>137HH</td>\n",
       "      <td>17230</td>\n",
       "      <td>41214891479</td>\n",
       "      <td>Nguyễn</td>\n",
       "      <td>Văn</td>\n",
       "      <td>Thành</td>\n",
       "      <td>26</td>\n",
       "      <td>1</td>\n",
       "      <td>1914</td>\n",
       "    </tr>\n",
       "    <tr>\n",
       "      <th>5278257</th>\n",
       "      <td>78257</td>\n",
       "      <td>1</td>\n",
       "      <td>39TTT</td>\n",
       "      <td>172HH</td>\n",
       "      <td>18965</td>\n",
       "      <td>39273490939</td>\n",
       "      <td>Park</td>\n",
       "      <td>Xuân</td>\n",
       "      <td>Nga</td>\n",
       "      <td>31</td>\n",
       "      <td>5</td>\n",
       "      <td>1973</td>\n",
       "    </tr>\n",
       "    <tr>\n",
       "      <th>5294925</th>\n",
       "      <td>94925</td>\n",
       "      <td>1</td>\n",
       "      <td>39TTT</td>\n",
       "      <td>172HH</td>\n",
       "      <td>18965</td>\n",
       "      <td>39273490939</td>\n",
       "      <td>Park</td>\n",
       "      <td>Xuân</td>\n",
       "      <td>Nga</td>\n",
       "      <td>31</td>\n",
       "      <td>5</td>\n",
       "      <td>1973</td>\n",
       "    </tr>\n",
       "    <tr>\n",
       "      <th>5299092</th>\n",
       "      <td>99092</td>\n",
       "      <td>1</td>\n",
       "      <td>08TTT</td>\n",
       "      <td>170HH</td>\n",
       "      <td>5612</td>\n",
       "      <td>8221428471</td>\n",
       "      <td>Đoàn</td>\n",
       "      <td>Thị Linh</td>\n",
       "      <td>Anh</td>\n",
       "      <td>29</td>\n",
       "      <td>1</td>\n",
       "      <td>1921</td>\n",
       "    </tr>\n",
       "    <tr>\n",
       "      <th>5264402</th>\n",
       "      <td>64402</td>\n",
       "      <td>1</td>\n",
       "      <td>57TTT</td>\n",
       "      <td>085HH</td>\n",
       "      <td>9261</td>\n",
       "      <td>57014548208</td>\n",
       "      <td>Đỗ</td>\n",
       "      <td>Ngọc</td>\n",
       "      <td>Thoa</td>\n",
       "      <td>31</td>\n",
       "      <td>8</td>\n",
       "      <td>2014</td>\n",
       "    </tr>\n",
       "    <tr>\n",
       "      <th>5276903</th>\n",
       "      <td>76903</td>\n",
       "      <td>0</td>\n",
       "      <td>53TTT</td>\n",
       "      <td>015HH</td>\n",
       "      <td>14371</td>\n",
       "      <td>53106272395</td>\n",
       "      <td>Phạm</td>\n",
       "      <td>Duy</td>\n",
       "      <td>Liên</td>\n",
       "      <td>12</td>\n",
       "      <td>4</td>\n",
       "      <td>2006</td>\n",
       "    </tr>\n",
       "    <tr>\n",
       "      <th>5293571</th>\n",
       "      <td>93571</td>\n",
       "      <td>0</td>\n",
       "      <td>53TTT</td>\n",
       "      <td>015HH</td>\n",
       "      <td>14371</td>\n",
       "      <td>53106272395</td>\n",
       "      <td>Phạm</td>\n",
       "      <td>Duy</td>\n",
       "      <td>Liên</td>\n",
       "      <td>12</td>\n",
       "      <td>4</td>\n",
       "      <td>2006</td>\n",
       "    </tr>\n",
       "    <tr>\n",
       "      <th>5297738</th>\n",
       "      <td>97738</td>\n",
       "      <td>0</td>\n",
       "      <td>55TTT</td>\n",
       "      <td>200HH</td>\n",
       "      <td>2781</td>\n",
       "      <td>55113471619</td>\n",
       "      <td>Vũ</td>\n",
       "      <td>Thị</td>\n",
       "      <td>Quang</td>\n",
       "      <td>7</td>\n",
       "      <td>2</td>\n",
       "      <td>2013</td>\n",
       "    </tr>\n",
       "    <tr>\n",
       "      <th>5226030</th>\n",
       "      <td>26030</td>\n",
       "      <td>0</td>\n",
       "      <td>36TTT</td>\n",
       "      <td>040HH</td>\n",
       "      <td>8983</td>\n",
       "      <td>36105490122</td>\n",
       "      <td>Phạm</td>\n",
       "      <td>Thùy</td>\n",
       "      <td>Liên</td>\n",
       "      <td>14</td>\n",
       "      <td>3</td>\n",
       "      <td>2005</td>\n",
       "    </tr>\n",
       "    <tr>\n",
       "      <th>5230197</th>\n",
       "      <td>30197</td>\n",
       "      <td>0</td>\n",
       "      <td>36TTT</td>\n",
       "      <td>040HH</td>\n",
       "      <td>8983</td>\n",
       "      <td>36105490122</td>\n",
       "      <td>Phạm</td>\n",
       "      <td>Thùy</td>\n",
       "      <td>Liên</td>\n",
       "      <td>14</td>\n",
       "      <td>3</td>\n",
       "      <td>2005</td>\n",
       "    </tr>\n",
       "    <tr>\n",
       "      <th>5234364</th>\n",
       "      <td>34364</td>\n",
       "      <td>0</td>\n",
       "      <td>36TTT</td>\n",
       "      <td>040HH</td>\n",
       "      <td>8983</td>\n",
       "      <td>36105490122</td>\n",
       "      <td>Phạm</td>\n",
       "      <td>Thùy</td>\n",
       "      <td>Liên</td>\n",
       "      <td>14</td>\n",
       "      <td>3</td>\n",
       "      <td>2005</td>\n",
       "    </tr>\n",
       "    <tr>\n",
       "      <th>5238531</th>\n",
       "      <td>38531</td>\n",
       "      <td>0</td>\n",
       "      <td>36TTT</td>\n",
       "      <td>040HH</td>\n",
       "      <td>8983</td>\n",
       "      <td>36105490122</td>\n",
       "      <td>Phạm</td>\n",
       "      <td>Thùy</td>\n",
       "      <td>Liên</td>\n",
       "      <td>14</td>\n",
       "      <td>3</td>\n",
       "      <td>2005</td>\n",
       "    </tr>\n",
       "    <tr>\n",
       "      <th>5242698</th>\n",
       "      <td>42698</td>\n",
       "      <td>0</td>\n",
       "      <td>36TTT</td>\n",
       "      <td>040HH</td>\n",
       "      <td>8983</td>\n",
       "      <td>36105490122</td>\n",
       "      <td>Phạm</td>\n",
       "      <td>Thùy</td>\n",
       "      <td>Liên</td>\n",
       "      <td>14</td>\n",
       "      <td>3</td>\n",
       "      <td>2005</td>\n",
       "    </tr>\n",
       "    <tr>\n",
       "      <th>5246865</th>\n",
       "      <td>46865</td>\n",
       "      <td>0</td>\n",
       "      <td>36TTT</td>\n",
       "      <td>040HH</td>\n",
       "      <td>8983</td>\n",
       "      <td>36105490122</td>\n",
       "      <td>Phạm</td>\n",
       "      <td>Thùy</td>\n",
       "      <td>Liên</td>\n",
       "      <td>14</td>\n",
       "      <td>3</td>\n",
       "      <td>2005</td>\n",
       "    </tr>\n",
       "    <tr>\n",
       "      <th>5264767</th>\n",
       "      <td>64767</td>\n",
       "      <td>1</td>\n",
       "      <td>59TTT</td>\n",
       "      <td>207HH</td>\n",
       "      <td>15118</td>\n",
       "      <td>59248930546</td>\n",
       "      <td>Nguyễn</td>\n",
       "      <td>Thị</td>\n",
       "      <td>Thăng</td>\n",
       "      <td>6</td>\n",
       "      <td>3</td>\n",
       "      <td>1948</td>\n",
       "    </tr>\n",
       "    <tr>\n",
       "      <th>5277268</th>\n",
       "      <td>77268</td>\n",
       "      <td>1</td>\n",
       "      <td>28TTT</td>\n",
       "      <td>061HH</td>\n",
       "      <td>17545</td>\n",
       "      <td>28230608587</td>\n",
       "      <td>Phạm</td>\n",
       "      <td>Nhật</td>\n",
       "      <td>Nghĩa</td>\n",
       "      <td>15</td>\n",
       "      <td>6</td>\n",
       "      <td>1930</td>\n",
       "    </tr>\n",
       "    <tr>\n",
       "      <th>5293936</th>\n",
       "      <td>93936</td>\n",
       "      <td>1</td>\n",
       "      <td>28TTT</td>\n",
       "      <td>061HH</td>\n",
       "      <td>17545</td>\n",
       "      <td>28230608587</td>\n",
       "      <td>Phạm</td>\n",
       "      <td>Nhật</td>\n",
       "      <td>Nghĩa</td>\n",
       "      <td>15</td>\n",
       "      <td>6</td>\n",
       "      <td>1930</td>\n",
       "    </tr>\n",
       "    <tr>\n",
       "      <th>5298103</th>\n",
       "      <td>98103</td>\n",
       "      <td>1</td>\n",
       "      <td>14TTT</td>\n",
       "      <td>028HH</td>\n",
       "      <td>16475</td>\n",
       "      <td>14216057897</td>\n",
       "      <td>Nguyễn</td>\n",
       "      <td>Trần</td>\n",
       "      <td>Tuấn</td>\n",
       "      <td>30</td>\n",
       "      <td>2</td>\n",
       "      <td>1916</td>\n",
       "    </tr>\n",
       "    <tr>\n",
       "      <th>5266297</th>\n",
       "      <td>66297</td>\n",
       "      <td>1</td>\n",
       "      <td>36TTT</td>\n",
       "      <td>057HH</td>\n",
       "      <td>10607</td>\n",
       "      <td>36297533731</td>\n",
       "      <td>Nguyễn</td>\n",
       "      <td>Thi</td>\n",
       "      <td>Thu</td>\n",
       "      <td>2</td>\n",
       "      <td>11</td>\n",
       "      <td>1997</td>\n",
       "    </tr>\n",
       "    <tr>\n",
       "      <th>5278798</th>\n",
       "      <td>78798</td>\n",
       "      <td>0</td>\n",
       "      <td>17TTT</td>\n",
       "      <td>092HH</td>\n",
       "      <td>3826</td>\n",
       "      <td>17384915007</td>\n",
       "      <td>Lê</td>\n",
       "      <td>Gia</td>\n",
       "      <td>Nghĩa</td>\n",
       "      <td>16</td>\n",
       "      <td>2</td>\n",
       "      <td>1984</td>\n",
       "    </tr>\n",
       "    <tr>\n",
       "      <th>5295466</th>\n",
       "      <td>95466</td>\n",
       "      <td>0</td>\n",
       "      <td>17TTT</td>\n",
       "      <td>092HH</td>\n",
       "      <td>3826</td>\n",
       "      <td>17384915007</td>\n",
       "      <td>Lê</td>\n",
       "      <td>Gia</td>\n",
       "      <td>Nghĩa</td>\n",
       "      <td>16</td>\n",
       "      <td>2</td>\n",
       "      <td>1984</td>\n",
       "    </tr>\n",
       "    <tr>\n",
       "      <th>5299633</th>\n",
       "      <td>99633</td>\n",
       "      <td>1</td>\n",
       "      <td>07TTT</td>\n",
       "      <td>041HH</td>\n",
       "      <td>6257</td>\n",
       "      <td>7244271153</td>\n",
       "      <td>Lê</td>\n",
       "      <td>Việt</td>\n",
       "      <td>Nguyệt</td>\n",
       "      <td>6</td>\n",
       "      <td>6</td>\n",
       "      <td>1944</td>\n",
       "    </tr>\n",
       "  </tbody>\n",
       "</table>\n",
       "<p>1358 rows × 12 columns</p>\n",
       "</div>"
      ],
      "text/plain": [
       "         Unnamed: 0  GIOI_TINH MA_TINH_KS MA_HUYEN_KS  MA_XA_KS     SO_CMTND  \\\n",
       "78257         78257          1      41TTT       137HH     17230  41214891479   \n",
       "82424         82424          1      39TTT       172HH     18965  39273490939   \n",
       "86591         86591          1      39TTT       172HH     18965  39273490939   \n",
       "90758         90758          1      08TTT       170HH      5612   8221428471   \n",
       "94925         94925          1      39TTT       172HH     18965  39273490939   \n",
       "99092         99092          1      39TTT       172HH     18965  39273490939   \n",
       "76903         76903          1      57TTT       085HH      9261  57014548208   \n",
       "81070         81070          0      53TTT       015HH     14371  53106272395   \n",
       "85237         85237          0      53TTT       015HH     14371  53106272395   \n",
       "89404         89404          0      55TTT       200HH      2781  55113471619   \n",
       "93571         93571          0      53TTT       015HH     14371  53106272395   \n",
       "97738         97738          0      53TTT       015HH     14371  53106272395   \n",
       "26030         26030          0      36TTT       040HH      8983  36105490122   \n",
       "30197         30197          0      36TTT       040HH      8983  36105490122   \n",
       "34364         34364          0      36TTT       040HH      8983  36105490122   \n",
       "38531         38531          0      36TTT       040HH      8983  36105490122   \n",
       "42698         42698          0      36TTT       040HH      8983  36105490122   \n",
       "46865         46865          0      36TTT       040HH      8983  36105490122   \n",
       "77268         77268          1      59TTT       207HH     15118  59248930546   \n",
       "81435         81435          1      28TTT       061HH     17545  28230608587   \n",
       "85602         85602          1      28TTT       061HH     17545  28230608587   \n",
       "89769         89769          1      14TTT       028HH     16475  14216057897   \n",
       "93936         93936          1      28TTT       061HH     17545  28230608587   \n",
       "98103         98103          1      28TTT       061HH     17545  28230608587   \n",
       "78798         78798          1      36TTT       057HH     10607  36297533731   \n",
       "82965         82965          0      17TTT       092HH      3826  17384915007   \n",
       "87132         87132          0      17TTT       092HH      3826  17384915007   \n",
       "91299         91299          1      07TTT       041HH      6257   7244271153   \n",
       "95466         95466          0      17TTT       092HH      3826  17384915007   \n",
       "99633         99633          0      17TTT       092HH      3826  17384915007   \n",
       "...             ...        ...        ...         ...       ...          ...   \n",
       "5193936       93936          1      14TTT       028HH     16475  14216057897   \n",
       "5198103       98103          1      28TTT       061HH     17545  28230608587   \n",
       "5178798       78798          1      36TTT       057HH     10607  36297533731   \n",
       "5182965       82965          1      36TTT       057HH     10607  36297533731   \n",
       "5187132       87132          0      17TTT       092HH      3826  17384915007   \n",
       "5191299       91299          0      17TTT       092HH      3826  17384915007   \n",
       "5195466       95466          1      07TTT       041HH      6257   7244271153   \n",
       "5199633       99633          0      17TTT       092HH      3826  17384915007   \n",
       "5265756       65756          1      41TTT       137HH     17230  41214891479   \n",
       "5278257       78257          1      39TTT       172HH     18965  39273490939   \n",
       "5294925       94925          1      39TTT       172HH     18965  39273490939   \n",
       "5299092       99092          1      08TTT       170HH      5612   8221428471   \n",
       "5264402       64402          1      57TTT       085HH      9261  57014548208   \n",
       "5276903       76903          0      53TTT       015HH     14371  53106272395   \n",
       "5293571       93571          0      53TTT       015HH     14371  53106272395   \n",
       "5297738       97738          0      55TTT       200HH      2781  55113471619   \n",
       "5226030       26030          0      36TTT       040HH      8983  36105490122   \n",
       "5230197       30197          0      36TTT       040HH      8983  36105490122   \n",
       "5234364       34364          0      36TTT       040HH      8983  36105490122   \n",
       "5238531       38531          0      36TTT       040HH      8983  36105490122   \n",
       "5242698       42698          0      36TTT       040HH      8983  36105490122   \n",
       "5246865       46865          0      36TTT       040HH      8983  36105490122   \n",
       "5264767       64767          1      59TTT       207HH     15118  59248930546   \n",
       "5277268       77268          1      28TTT       061HH     17545  28230608587   \n",
       "5293936       93936          1      28TTT       061HH     17545  28230608587   \n",
       "5298103       98103          1      14TTT       028HH     16475  14216057897   \n",
       "5266297       66297          1      36TTT       057HH     10607  36297533731   \n",
       "5278798       78798          0      17TTT       092HH      3826  17384915007   \n",
       "5295466       95466          0      17TTT       092HH      3826  17384915007   \n",
       "5299633       99633          1      07TTT       041HH      6257   7244271153   \n",
       "\n",
       "             HO       DEM     TEN  NGAY  THANG   NAM  \n",
       "78257    Nguyễn       Văn   Thành    26      1  1914  \n",
       "82424      Park      Xuân     Nga    31      5  1973  \n",
       "86591      Park      Xuân     Nga    31      5  1973  \n",
       "90758      Đoàn  Thị Linh     Anh    29      1  1921  \n",
       "94925      Park      Xuân     Nga    31      5  1973  \n",
       "99092      Park      Xuân     Nga    31      5  1973  \n",
       "76903        Đỗ      Ngọc    Thoa    31      8  2014  \n",
       "81070      Phạm       Duy    Liên    12      4  2006  \n",
       "85237      Phạm       Duy    Liên    12      4  2006  \n",
       "89404        Vũ       Thị   Quang     7      2  2013  \n",
       "93571      Phạm       Duy    Liên    12      4  2006  \n",
       "97738      Phạm       Duy    Liên    12      4  2006  \n",
       "26030      Phạm      Thùy    Liên    14      3  2005  \n",
       "30197      Phạm      Thùy    Liên    14      3  2005  \n",
       "34364      Phạm      Thùy    Liên    14      3  2005  \n",
       "38531      Phạm      Thùy    Liên    14      3  2005  \n",
       "42698      Phạm      Thùy    Liên    14      3  2005  \n",
       "46865      Phạm      Thùy    Liên    14      3  2005  \n",
       "77268    Nguyễn       Thị   Thăng     6      3  1948  \n",
       "81435      Phạm      Nhật   Nghĩa    15      6  1930  \n",
       "85602      Phạm      Nhật   Nghĩa    15      6  1930  \n",
       "89769    Nguyễn      Trần    Tuấn    30      2  1916  \n",
       "93936      Phạm      Nhật   Nghĩa    15      6  1930  \n",
       "98103      Phạm      Nhật   Nghĩa    15      6  1930  \n",
       "78798    Nguyễn       Thi     Thu     2     11  1997  \n",
       "82965        Lê       Gia   Nghĩa    16      2  1984  \n",
       "87132        Lê       Gia   Nghĩa    16      2  1984  \n",
       "91299        Lê      Việt  Nguyệt     6      6  1944  \n",
       "95466        Lê       Gia   Nghĩa    16      2  1984  \n",
       "99633        Lê       Gia   Nghĩa    16      2  1984  \n",
       "...         ...       ...     ...   ...    ...   ...  \n",
       "5193936  Nguyễn      Trần    Tuấn    30      2  1916  \n",
       "5198103    Phạm      Nhật   Nghĩa    15      6  1930  \n",
       "5178798  Nguyễn       Thi     Thu     2     11  1997  \n",
       "5182965  Nguyễn       Thi     Thu     2     11  1997  \n",
       "5187132      Lê       Gia   Nghĩa    16      2  1984  \n",
       "5191299      Lê       Gia   Nghĩa    16      2  1984  \n",
       "5195466      Lê      Việt  Nguyệt     6      6  1944  \n",
       "5199633      Lê       Gia   Nghĩa    16      2  1984  \n",
       "5265756  Nguyễn       Văn   Thành    26      1  1914  \n",
       "5278257    Park      Xuân     Nga    31      5  1973  \n",
       "5294925    Park      Xuân     Nga    31      5  1973  \n",
       "5299092    Đoàn  Thị Linh     Anh    29      1  1921  \n",
       "5264402      Đỗ      Ngọc    Thoa    31      8  2014  \n",
       "5276903    Phạm       Duy    Liên    12      4  2006  \n",
       "5293571    Phạm       Duy    Liên    12      4  2006  \n",
       "5297738      Vũ       Thị   Quang     7      2  2013  \n",
       "5226030    Phạm      Thùy    Liên    14      3  2005  \n",
       "5230197    Phạm      Thùy    Liên    14      3  2005  \n",
       "5234364    Phạm      Thùy    Liên    14      3  2005  \n",
       "5238531    Phạm      Thùy    Liên    14      3  2005  \n",
       "5242698    Phạm      Thùy    Liên    14      3  2005  \n",
       "5246865    Phạm      Thùy    Liên    14      3  2005  \n",
       "5264767  Nguyễn       Thị   Thăng     6      3  1948  \n",
       "5277268    Phạm      Nhật   Nghĩa    15      6  1930  \n",
       "5293936    Phạm      Nhật   Nghĩa    15      6  1930  \n",
       "5298103  Nguyễn      Trần    Tuấn    30      2  1916  \n",
       "5266297  Nguyễn       Thi     Thu     2     11  1997  \n",
       "5278798      Lê       Gia   Nghĩa    16      2  1984  \n",
       "5295466      Lê       Gia   Nghĩa    16      2  1984  \n",
       "5299633      Lê      Việt  Nguyệt     6      6  1944  \n",
       "\n",
       "[1358 rows x 12 columns]"
      ]
     },
     "execution_count": 63,
     "metadata": {},
     "output_type": "execute_result"
    }
   ],
   "source": [
    "pd.concat(bucket_records)"
   ]
  },
  {
   "cell_type": "code",
   "execution_count": 30,
   "metadata": {
    "ExecuteTime": {
     "end_time": "2019-08-13T02:24:50.061966Z",
     "start_time": "2019-08-13T02:24:50.056955Z"
    }
   },
   "outputs": [],
   "source": [
    "records = np.array(records)"
   ]
  },
  {
   "cell_type": "code",
   "execution_count": 43,
   "metadata": {
    "ExecuteTime": {
     "end_time": "2019-08-13T02:27:33.906284Z",
     "start_time": "2019-08-13T02:27:26.218935Z"
    }
   },
   "outputs": [],
   "source": [
    "res = "
   ]
  },
  {
   "cell_type": "code",
   "execution_count": 46,
   "metadata": {
    "ExecuteTime": {
     "end_time": "2019-08-13T02:27:49.839522Z",
     "start_time": "2019-08-13T02:27:49.835895Z"
    }
   },
   "outputs": [],
   "source": [
    "import sys"
   ]
  },
  {
   "cell_type": "code",
   "execution_count": 98,
   "metadata": {
    "ExecuteTime": {
     "end_time": "2019-08-13T03:48:32.585994Z",
     "start_time": "2019-08-13T03:48:32.582852Z"
    }
   },
   "outputs": [
    {
     "data": {
      "text/plain": [
       "2.7940720319747925"
      ]
     },
     "execution_count": 98,
     "metadata": {},
     "output_type": "execute_result"
    }
   ],
   "source": [
    "sys.getsizeof(res)/1024**2 * 1e3/1024"
   ]
  },
  {
   "cell_type": "code",
   "execution_count": 101,
   "metadata": {
    "ExecuteTime": {
     "end_time": "2019-08-13T03:49:32.759583Z",
     "start_time": "2019-08-13T03:49:32.756223Z"
    }
   },
   "outputs": [],
   "source": [
    "## Get full fingerprints\n",
    "\n",
    "\n",
    "\n"
   ]
  },
  {
   "cell_type": "code",
   "execution_count": 58,
   "metadata": {
    "ExecuteTime": {
     "end_time": "2019-08-13T02:30:14.722293Z",
     "start_time": "2019-08-13T02:30:14.700858Z"
    },
    "collapsed": true
   },
   "outputs": [
    {
     "ename": "AttributeError",
     "evalue": "'numpy.ndarray' object has no attribute 'split'",
     "output_type": "error",
     "traceback": [
      "\u001b[0;31m---------------------------------------------------------------------------\u001b[0m",
      "\u001b[0;31mAttributeError\u001b[0m                            Traceback (most recent call last)",
      "\u001b[0;32m<ipython-input-58-61a4cce14162>\u001b[0m in \u001b[0;36m<module>\u001b[0;34m\u001b[0m\n\u001b[0;32m----> 1\u001b[0;31m \u001b[0mres\u001b[0m \u001b[0;34m=\u001b[0m \u001b[0;34m[\u001b[0m\u001b[0mnp\u001b[0m\u001b[0;34m.\u001b[0m\u001b[0marray\u001b[0m\u001b[0;34m(\u001b[0m\u001b[0mi\u001b[0m\u001b[0;34m.\u001b[0m\u001b[0msplit\u001b[0m\u001b[0;34m(\u001b[0m\u001b[0;34m)\u001b[0m\u001b[0;34m)\u001b[0m\u001b[0;34m.\u001b[0m\u001b[0mastype\u001b[0m\u001b[0;34m(\u001b[0m\u001b[0mnp\u001b[0m\u001b[0;34m.\u001b[0m\u001b[0mbool\u001b[0m\u001b[0;34m)\u001b[0m \u001b[0;32mfor\u001b[0m \u001b[0mi\u001b[0m \u001b[0;32min\u001b[0m \u001b[0mres\u001b[0m\u001b[0;34m]\u001b[0m\u001b[0;34m\u001b[0m\u001b[0;34m\u001b[0m\u001b[0m\n\u001b[0m",
      "\u001b[0;32m<ipython-input-58-61a4cce14162>\u001b[0m in \u001b[0;36m<listcomp>\u001b[0;34m(.0)\u001b[0m\n\u001b[0;32m----> 1\u001b[0;31m \u001b[0mres\u001b[0m \u001b[0;34m=\u001b[0m \u001b[0;34m[\u001b[0m\u001b[0mnp\u001b[0m\u001b[0;34m.\u001b[0m\u001b[0marray\u001b[0m\u001b[0;34m(\u001b[0m\u001b[0mi\u001b[0m\u001b[0;34m.\u001b[0m\u001b[0msplit\u001b[0m\u001b[0;34m(\u001b[0m\u001b[0;34m)\u001b[0m\u001b[0;34m)\u001b[0m\u001b[0;34m.\u001b[0m\u001b[0mastype\u001b[0m\u001b[0;34m(\u001b[0m\u001b[0mnp\u001b[0m\u001b[0;34m.\u001b[0m\u001b[0mbool\u001b[0m\u001b[0;34m)\u001b[0m \u001b[0;32mfor\u001b[0m \u001b[0mi\u001b[0m \u001b[0;32min\u001b[0m \u001b[0mres\u001b[0m\u001b[0;34m]\u001b[0m\u001b[0;34m\u001b[0m\u001b[0;34m\u001b[0m\u001b[0m\n\u001b[0m",
      "\u001b[0;31mAttributeError\u001b[0m: 'numpy.ndarray' object has no attribute 'split'"
     ]
    }
   ],
   "source": []
  },
  {
   "cell_type": "code",
   "execution_count": 60,
   "metadata": {
    "ExecuteTime": {
     "end_time": "2019-08-13T02:31:02.872246Z",
     "start_time": "2019-08-13T02:31:02.861697Z"
    }
   },
   "outputs": [],
   "source": [
    "import pickle\n",
    "with open('test_size.pickle', 'wb') as handle:\n",
    "    pickle.dump(res, handle, protocol=pickle.HIGHEST_PROTOCOL)\n"
   ]
  },
  {
   "cell_type": "code",
   "execution_count": 64,
   "metadata": {
    "ExecuteTime": {
     "end_time": "2019-08-13T02:31:49.412174Z",
     "start_time": "2019-08-13T02:31:49.405730Z"
    }
   },
   "outputs": [
    {
     "data": {
      "text/plain": [
       "35.15625"
      ]
     },
     "execution_count": 64,
     "metadata": {},
     "output_type": "execute_result"
    }
   ],
   "source": [
    "3000 * 12/1024"
   ]
  },
  {
   "cell_type": "code",
   "execution_count": 70,
   "metadata": {
    "ExecuteTime": {
     "end_time": "2019-08-13T02:32:46.873896Z",
     "start_time": "2019-08-13T02:32:46.862907Z"
    }
   },
   "outputs": [],
   "source": [
    "bit_lengths = res.sum(axis = 1)"
   ]
  },
  {
   "cell_type": "code",
   "execution_count": 71,
   "metadata": {
    "ExecuteTime": {
     "end_time": "2019-08-13T02:32:55.062860Z",
     "start_time": "2019-08-13T02:32:55.054974Z"
    }
   },
   "outputs": [
    {
     "data": {
      "text/plain": [
       "array([185, 179, 206, ..., 181, 191, 184])"
      ]
     },
     "execution_count": 71,
     "metadata": {},
     "output_type": "execute_result"
    }
   ],
   "source": [
    "bit_lengths"
   ]
  },
  {
   "cell_type": "code",
   "execution_count": 72,
   "metadata": {
    "ExecuteTime": {
     "end_time": "2019-08-13T02:33:06.318901Z",
     "start_time": "2019-08-13T02:33:05.709239Z"
    }
   },
   "outputs": [],
   "source": [
    "import matplotlib.pyplot as plt"
   ]
  },
  {
   "cell_type": "code",
   "execution_count": 90,
   "metadata": {
    "ExecuteTime": {
     "end_time": "2019-08-13T02:37:49.486443Z",
     "start_time": "2019-08-13T02:37:49.251044Z"
    }
   },
   "outputs": [
    {
     "data": {
      "image/png": "[encoded data removed]",
      "text/plain": [
       "<Figure size 432x288 with 1 Axes>"
      ]
     },
     "metadata": {},
     "output_type": "display_data"
    }
   ],
   "source": [
    "import seaborn as sns\n",
    "sns.set_style(\"darkgrid\")\n",
    "plt.hist(bit_lengths, bins = 100)\n",
    "plt.show()"
   ]
  },
  {
   "cell_type": "code",
   "execution_count": 76,
   "metadata": {
    "ExecuteTime": {
     "end_time": "2019-08-13T02:35:39.494951Z",
     "start_time": "2019-08-13T02:35:39.491206Z"
    }
   },
   "outputs": [],
   "source": [
    "from scipy import stats"
   ]
  },
  {
   "cell_type": "code",
   "execution_count": 77,
   "metadata": {
    "ExecuteTime": {
     "end_time": "2019-08-13T02:35:54.966962Z",
     "start_time": "2019-08-13T02:35:54.961039Z"
    }
   },
   "outputs": [],
   "source": [
    "most_freq_val = stats.mode(bit_lengths)"
   ]
  },
  {
   "cell_type": "code",
   "execution_count": 87,
   "metadata": {
    "ExecuteTime": {
     "end_time": "2019-08-13T02:37:33.143190Z",
     "start_time": "2019-08-13T02:37:33.137791Z"
    }
   },
   "outputs": [],
   "source": [
    "max_portion = (bit_lengths == most_freq_val.mode[0]).sum()/len(bit_lengths)"
   ]
  },
  {
   "cell_type": "code",
   "execution_count": 92,
   "metadata": {
    "ExecuteTime": {
     "end_time": "2019-08-13T02:38:35.319804Z",
     "start_time": "2019-08-13T02:38:35.315452Z"
    }
   },
   "outputs": [],
   "source": [
    "expected_tree_size = max_portion * 120e6"
   ]
  },
  {
   "cell_type": "code",
   "execution_count": 93,
   "metadata": {
    "ExecuteTime": {
     "end_time": "2019-08-13T02:38:38.238137Z",
     "start_time": "2019-08-13T02:38:38.227464Z"
    }
   },
   "outputs": [
    {
     "data": {
      "text/plain": [
       "3228000.0"
      ]
     },
     "execution_count": 93,
     "metadata": {},
     "output_type": "execute_result"
    }
   ],
   "source": [
    "expected_tree_size"
   ]
  },
  {
   "cell_type": "code",
   "execution_count": 89,
   "metadata": {
    "ExecuteTime": {
     "end_time": "2019-08-13T02:37:37.585015Z",
     "start_time": "2019-08-13T02:37:37.582275Z"
    }
   },
   "outputs": [
    {
     "data": {
      "text/plain": [
       "array([191])"
      ]
     },
     "execution_count": 89,
     "metadata": {},
     "output_type": "execute_result"
    }
   ],
   "source": []
  },
  {
   "cell_type": "code",
   "execution_count": 57,
   "metadata": {
    "ExecuteTime": {
     "end_time": "2019-08-13T02:30:07.976674Z",
     "start_time": "2019-08-13T02:30:07.965602Z"
    }
   },
   "outputs": [],
   "source": [
    "np.bool??"
   ]
  },
  {
   "cell_type": "code",
   "execution_count": null,
   "metadata": {},
   "outputs": [],
   "source": []
  }
 ],
 "metadata": {
  "kernelspec": {
   "display_name": "Python 3",
   "language": "python",
   "name": "python3"
  },
  "language_info": {
   "codemirror_mode": {
    "name": "ipython",
    "version": 3
   },
   "file_extension": ".py",
   "mimetype": "text/x-python",
   "name": "python",
   "nbconvert_exporter": "python",
   "pygments_lexer": "ipython3",
   "version": "3.7.3"
  },
  "toc": {
   "base_numbering": 1,
   "nav_menu": {},
   "number_sections": true,
   "sideBar": true,
   "skip_h1_title": false,
   "title_cell": "Table of Contents",
   "title_sidebar": "Contents",
   "toc_cell": false,
   "toc_position": {},
   "toc_section_display": true,
   "toc_window_display": false
  }
 },
 "nbformat": 4,
 "nbformat_minor": 2
}
