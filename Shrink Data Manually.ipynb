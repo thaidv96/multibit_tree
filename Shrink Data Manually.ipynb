{
 "cells": [
  {
   "cell_type": "markdown",
   "metadata": {},
   "source": [
    "## ROOT_IDX: 153\n",
    "## F1_i_child IDX: 154 \n",
    "## F1_o_child IDX:"
   ]
  },
  {
   "cell_type": "markdown",
   "metadata": {},
   "source": [
    "- 153\n",
    "    - ~153 154\n",
    "        - ~153~154 163\n",
    "        - ~153!154 20\n",
    "    - !153 40\n",
    "        - !153~40 55\n",
    "        - !153!40 260\n",
    "    "
   ]
  },
  {
   "cell_type": "markdown",
   "metadata": {},
   "source": []
  },
  {
   "cell_type": "code",
   "execution_count": 2,
   "metadata": {
    "ExecuteTime": {
     "end_time": "2019-08-19T02:00:25.382799Z",
     "start_time": "2019-08-19T02:00:25.378559Z"
    }
   },
   "outputs": [],
   "source": [
    "import pandas as pd\n",
    "import numpy as np\n",
    "from datetime import datetime\n",
    "from multiprocessing import Pool, cpu_count\n",
    "import sys\n",
    "from collections import Counter\n",
    "import pickle\n",
    "path = sys.argv[1]\n",
    "chunksize = sys.argv[2]\n",
    "dfs = pd.read_csv(path, chunksize = chunksize)\n",
    "start_time = datetime.now()\n",
    "res = Counter()\n",
    "for i, df in enumerate(dfs):\n",
    "    running_time = datetime.now()\n",
    "    print(\"completed:\", round(i*chunksize/120e4,4), '%', 'estimated remaining:', \n",
    "          (running_time-start_time)/((i + 1)*chunksize) * 120e6 - (running_time-start_time))\n",
    "    true_idx = [i.split() for i in df.Fingerprint.values ]\n",
    "    true_idx = [i for o in true_idx for i in o]\n",
    "    c = Counter(true_idx)\n",
    "    res += c\n",
    "    \n",
    "    \n",
    "with open('root_counter.pickle', 'wb') as handle:\n",
    "    pickle.dump(res, handle, protocol=pickle.HIGHEST_PROTOCOL)\n"
   ]
  },
  {
   "cell_type": "code",
   "execution_count": 107,
   "metadata": {
    "ExecuteTime": {
     "end_time": "2019-08-19T04:57:31.479650Z",
     "start_time": "2019-08-19T04:57:31.446298Z"
    }
   },
   "outputs": [],
   "source": [
    "with open(f'{condition}.pickle', 'wb') as handle:\n",
    "    pickle.dump(res, handle, protocol=pickle.HIGHEST_PROTOCOL)\n"
   ]
  },
  {
   "cell_type": "code",
   "execution_count": 59,
   "metadata": {
    "ExecuteTime": {
     "end_time": "2019-08-20T02:49:46.422663Z",
     "start_time": "2019-08-20T02:49:46.419924Z"
    }
   },
   "outputs": [
    {
     "data": {
      "text/plain": [
       "'2ea6201a068c5fa0eea5d81a3863321a87f8d533'"
      ]
     },
     "execution_count": 59,
     "metadata": {},
     "output_type": "execute_result"
    }
   ],
   "source": [
    "m.update('1'.encode('utf8'))\n",
    "m.hexdigest()"
   ]
  },
  {
   "cell_type": "code",
   "execution_count": null,
   "metadata": {},
   "outputs": [],
   "source": [
    "m.hashvalues = m.hashvalues.astype(np.int32)"
   ]
  },
  {
   "cell_type": "code",
   "execution_count": 60,
   "metadata": {
    "ExecuteTime": {
     "end_time": "2019-08-20T02:49:46.474682Z",
     "start_time": "2019-08-20T02:49:46.424325Z"
    }
   },
   "outputs": [
    {
     "data": {
      "text/plain": [
       "b'1'"
      ]
     },
     "execution_count": 60,
     "metadata": {},
     "output_type": "execute_result"
    }
   ],
   "source": [
    "'1'.encode('utf8')"
   ]
  },
  {
   "cell_type": "code",
   "execution_count": 64,
   "metadata": {
    "ExecuteTime": {
     "end_time": "2019-08-20T02:55:54.187852Z",
     "start_time": "2019-08-20T02:55:54.185310Z"
    }
   },
   "outputs": [],
   "source": [
    "fingerprints = np.zeros(300)"
   ]
  },
  {
   "cell_type": "code",
   "execution_count": 67,
   "metadata": {
    "ExecuteTime": {
     "end_time": "2019-08-20T02:56:31.098808Z",
     "start_time": "2019-08-20T02:56:31.096137Z"
    }
   },
   "outputs": [],
   "source": [
    "fingerprints[random.sample(range(300),20)] = 1"
   ]
  },
  {
   "cell_type": "code",
   "execution_count": 69,
   "metadata": {
    "ExecuteTime": {
     "end_time": "2019-08-20T02:56:46.739120Z",
     "start_time": "2019-08-20T02:56:46.731469Z"
    },
    "scrolled": true
   },
   "outputs": [
    {
     "data": {
      "text/plain": [
       "array([False, False, False, False, False, False, False, False, False,\n",
       "       False, False, False, False, False, False, False, False, False,\n",
       "       False, False, False, False, False, False, False, False, False,\n",
       "       False, False, False,  True, False, False, False, False, False,\n",
       "       False, False, False, False, False, False, False, False, False,\n",
       "       False, False, False, False, False, False, False, False, False,\n",
       "       False, False, False, False,  True,  True, False, False, False,\n",
       "       False, False, False, False, False,  True, False, False, False,\n",
       "       False, False, False, False, False, False, False, False, False,\n",
       "       False, False,  True, False, False, False, False, False, False,\n",
       "       False, False, False,  True, False, False, False, False, False,\n",
       "       False, False, False, False, False, False, False, False, False,\n",
       "       False, False, False, False, False, False, False, False, False,\n",
       "       False, False, False,  True, False, False, False, False, False,\n",
       "       False, False, False, False, False, False, False, False, False,\n",
       "       False, False, False,  True, False,  True,  True, False, False,\n",
       "       False, False, False, False, False, False, False, False, False,\n",
       "       False, False, False, False, False, False, False, False, False,\n",
       "       False, False, False, False, False, False, False, False, False,\n",
       "       False, False, False, False,  True, False, False, False, False,\n",
       "       False, False, False, False, False, False, False, False, False,\n",
       "       False, False, False, False, False, False, False, False,  True,\n",
       "       False, False, False, False, False, False, False, False, False,\n",
       "       False, False, False, False, False, False, False,  True, False,\n",
       "       False, False, False, False, False, False,  True, False, False,\n",
       "        True, False, False, False, False, False, False, False, False,\n",
       "       False, False, False, False, False, False, False, False, False,\n",
       "       False, False, False, False, False, False, False, False,  True,\n",
       "       False,  True, False, False, False, False, False, False, False,\n",
       "       False, False, False, False, False, False, False, False,  True,\n",
       "       False, False, False, False, False, False, False, False, False,\n",
       "       False, False, False, False, False, False,  True, False, False,\n",
       "       False, False, False,  True, False, False, False, False, False,\n",
       "       False, False, False])"
      ]
     },
     "execution_count": 69,
     "metadata": {},
     "output_type": "execute_result"
    }
   ],
   "source": [
    "fingerprints.astype(bool)"
   ]
  },
  {
   "cell_type": "code",
   "execution_count": 81,
   "metadata": {
    "ExecuteTime": {
     "end_time": "2019-08-20T06:54:33.172336Z",
     "start_time": "2019-08-20T06:54:33.168954Z"
    }
   },
   "outputs": [
    {
     "data": {
      "text/plain": [
       "15549910.0"
      ]
     },
     "execution_count": 81,
     "metadata": {},
     "output_type": "execute_result"
    }
   ],
   "source": [
    "temp['num_records']/2"
   ]
  },
  {
   "cell_type": "code",
   "execution_count": 63,
   "metadata": {
    "ExecuteTime": {
     "end_time": "2019-08-20T02:53:21.322874Z",
     "start_time": "2019-08-20T02:53:21.319463Z"
    },
    "collapsed": true
   },
   "outputs": [
    {
     "name": "stdout",
     "output_type": "stream",
     "text": [
      "1\n",
      "2\n",
      "4\n",
      "6\n",
      "7\n",
      "10\n"
     ]
    }
   ],
   "source": [
    "print()"
   ]
  },
  {
   "cell_type": "code",
   "execution_count": 61,
   "metadata": {
    "ExecuteTime": {
     "end_time": "2019-08-19T03:25:24.256164Z",
     "start_time": "2019-08-19T03:25:24.252969Z"
    }
   },
   "outputs": [],
   "source": [
    "chunksize = 10000"
   ]
  },
  {
   "cell_type": "code",
   "execution_count": 104,
   "metadata": {
    "ExecuteTime": {
     "end_time": "2019-08-19T04:53:30.253853Z",
     "start_time": "2019-08-19T04:53:30.231007Z"
    }
   },
   "outputs": [],
   "source": [
    "def check_in_condition(conds, values):\n",
    "    res = True\n",
    "    for cond in conds:\n",
    "        res &= (cond in values)\n",
    "    return res\n",
    "\n",
    "def check_not_in_condition(conds, values):\n",
    "    res = True\n",
    "    for cond in conds:\n",
    "        res &= (cond not in values)\n",
    "    return res"
   ]
  },
  {
   "cell_type": "code",
   "execution_count": 105,
   "metadata": {
    "ExecuteTime": {
     "end_time": "2019-08-19T04:55:13.483133Z",
     "start_time": "2019-08-19T04:55:02.500928Z"
    },
    "collapsed": true
   },
   "outputs": [
    {
     "name": "stdout",
     "output_type": "stream",
     "text": [
      "completed: 0.075 % estimated remaining: 119 days, 11:22:30.685747\n"
     ]
    }
   ],
   "source": [
    "res = Counter()\n",
    "condition = 'f1~150~24~17!15!14~13'\n",
    "must_have = re.findall(r'~(\\d+)', condition)\n",
    "not_have = re.findall(r'!(\\d+)', condition)\n",
    "\n",
    "df = pd.read_csv(\"./test_shrink_data.csv\")\n",
    "running_time = datetime.now()\n",
    "print(\"completed:\", round(i*chunksize/120e4,4), '%', 'estimated remaining:', \n",
    "      (running_time-start_time)/((i + 1)*chunksize) * 120e6 - (running_time-start_time))\n",
    "true_idx = [i.split() for i in df.Fingerprint.values ]\n",
    "true_idx = [i for o in true_idx if (check_in_condition(must_have,o) & check_not_in_condition(not_have,o)) for i in o]\n",
    "c = Counter(true_idx)\n",
    "res += c\n",
    "\n",
    "\n"
   ]
  },
  {
   "cell_type": "code",
   "execution_count": 84,
   "metadata": {
    "ExecuteTime": {
     "end_time": "2019-08-20T07:07:14.886745Z",
     "start_time": "2019-08-20T07:07:13.857362Z"
    }
   },
   "outputs": [],
   "source": [
    "import pandas as pd\n",
    "df = pd.read_csv('./test_shrink_data.csv')"
   ]
  },
  {
   "cell_type": "code",
   "execution_count": 86,
   "metadata": {
    "ExecuteTime": {
     "end_time": "2019-08-20T07:09:49.514370Z",
     "start_time": "2019-08-20T07:09:47.644136Z"
    }
   },
   "outputs": [
    {
     "data": {
      "text/plain": [
       "0         True\n",
       "1        False\n",
       "2        False\n",
       "3         True\n",
       "4        False\n",
       "5         True\n",
       "6         True\n",
       "7         True\n",
       "8         True\n",
       "9        False\n",
       "10       False\n",
       "11        True\n",
       "12        True\n",
       "13       False\n",
       "14       False\n",
       "15        True\n",
       "16       False\n",
       "17        True\n",
       "18       False\n",
       "19       False\n",
       "20       False\n",
       "21       False\n",
       "22        True\n",
       "23        True\n",
       "24        True\n",
       "25       False\n",
       "26       False\n",
       "27        True\n",
       "28       False\n",
       "29        True\n",
       "         ...  \n",
       "99968    False\n",
       "99969    False\n",
       "99970     True\n",
       "99971    False\n",
       "99972    False\n",
       "99973     True\n",
       "99974    False\n",
       "99975    False\n",
       "99976     True\n",
       "99977     True\n",
       "99978     True\n",
       "99979    False\n",
       "99980    False\n",
       "99981     True\n",
       "99982    False\n",
       "99983    False\n",
       "99984     True\n",
       "99985     True\n",
       "99986     True\n",
       "99987    False\n",
       "99988    False\n",
       "99989    False\n",
       "99990     True\n",
       "99991    False\n",
       "99992    False\n",
       "99993    False\n",
       "99994     True\n",
       "99995     True\n",
       "99996     True\n",
       "99997     True\n",
       "Name: Fingerprint, Length: 99998, dtype: bool"
      ]
     },
     "execution_count": 86,
     "metadata": {},
     "output_type": "execute_result"
    }
   ],
   "source": [
    "df.Fingerprint.str.split().apply(lambda x: '259' in x)"
   ]
  },
  {
   "cell_type": "code",
   "execution_count": 92,
   "metadata": {
    "ExecuteTime": {
     "end_time": "2019-08-19T04:27:26.953358Z",
     "start_time": "2019-08-19T04:27:26.948484Z"
    }
   },
   "outputs": [],
   "source": [
    "text = a"
   ]
  },
  {
   "cell_type": "code",
   "execution_count": 93,
   "metadata": {
    "ExecuteTime": {
     "end_time": "2019-08-19T04:27:27.812777Z",
     "start_time": "2019-08-19T04:27:27.809547Z"
    }
   },
   "outputs": [],
   "source": [
    "import re"
   ]
  },
  {
   "cell_type": "code",
   "execution_count": 94,
   "metadata": {
    "ExecuteTime": {
     "end_time": "2019-08-19T04:27:29.471661Z",
     "start_time": "2019-08-19T04:27:29.469432Z"
    }
   },
   "outputs": [],
   "source": [
    "pattern = r'!(\\d+)'"
   ]
  },
  {
   "cell_type": "code",
   "execution_count": 96,
   "metadata": {
    "ExecuteTime": {
     "end_time": "2019-08-19T04:27:40.888164Z",
     "start_time": "2019-08-19T04:27:40.883498Z"
    }
   },
   "outputs": [],
   "source": [
    "not_have = re.findall(pattern, text)"
   ]
  },
  {
   "cell_type": "code",
   "execution_count": 97,
   "metadata": {
    "ExecuteTime": {
     "end_time": "2019-08-19T04:27:46.590019Z",
     "start_time": "2019-08-19T04:27:46.587499Z"
    }
   },
   "outputs": [
    {
     "data": {
      "text/plain": [
       "['15', '14']"
      ]
     },
     "execution_count": 97,
     "metadata": {},
     "output_type": "execute_result"
    }
   ],
   "source": [
    "not_have"
   ]
  },
  {
   "cell_type": "code",
   "execution_count": 63,
   "metadata": {
    "ExecuteTime": {
     "end_time": "2019-08-19T03:25:29.724331Z",
     "start_time": "2019-08-19T03:25:29.707735Z"
    }
   },
   "outputs": [
    {
     "data": {
      "text/plain": [
       "Counter({'0': 88849,\n",
       "         '3': 97459,\n",
       "         '4': 96129,\n",
       "         '7': 95809,\n",
       "         '9': 86079,\n",
       "         '10': 97579,\n",
       "         '11': 75179,\n",
       "         '12': 81839,\n",
       "         '13': 82019,\n",
       "         '15': 82989,\n",
       "         '18': 51660,\n",
       "         '19': 45480,\n",
       "         '23': 65129,\n",
       "         '24': 86099,\n",
       "         '27': 74429,\n",
       "         '31': 86709,\n",
       "         '35': 97149,\n",
       "         '36': 90279,\n",
       "         '38': 59770,\n",
       "         '39': 46140,\n",
       "         '40': 40210,\n",
       "         '41': 70589,\n",
       "         '43': 65400,\n",
       "         '45': 71899,\n",
       "         '46': 82349,\n",
       "         '47': 77149,\n",
       "         '48': 92109,\n",
       "         '50': 52120,\n",
       "         '51': 87069,\n",
       "         '55': 55889,\n",
       "         '56': 79069,\n",
       "         '58': 55500,\n",
       "         '59': 42319,\n",
       "         '60': 97589,\n",
       "         '61': 63380,\n",
       "         '66': 85759,\n",
       "         '67': 69729,\n",
       "         '69': 60560,\n",
       "         '71': 83249,\n",
       "         '72': 75510,\n",
       "         '73': 87919,\n",
       "         '75': 72910,\n",
       "         '76': 86489,\n",
       "         '77': 68979,\n",
       "         '79': 62559,\n",
       "         '81': 69200,\n",
       "         '84': 63320,\n",
       "         '86': 85989,\n",
       "         '90': 27910,\n",
       "         '91': 82129,\n",
       "         '93': 49629,\n",
       "         '95': 39789,\n",
       "         '96': 85509,\n",
       "         '97': 43170,\n",
       "         '100': 89649,\n",
       "         '101': 63500,\n",
       "         '102': 75099,\n",
       "         '103': 57229,\n",
       "         '104': 88249,\n",
       "         '105': 95189,\n",
       "         '106': 83319,\n",
       "         '108': 99449,\n",
       "         '109': 65120,\n",
       "         '111': 97869,\n",
       "         '113': 73579,\n",
       "         '114': 63330,\n",
       "         '115': 35440,\n",
       "         '117': 58199,\n",
       "         '120': 59899,\n",
       "         '123': 34030,\n",
       "         '125': 66360,\n",
       "         '128': 81379,\n",
       "         '131': 80819,\n",
       "         '132': 88559,\n",
       "         '133': 54829,\n",
       "         '137': 62559,\n",
       "         '139': 24119,\n",
       "         '140': 88089,\n",
       "         '141': 57880,\n",
       "         '143': 92249,\n",
       "         '144': 88959,\n",
       "         '149': 26690,\n",
       "         '153': 50660,\n",
       "         '156': 85519,\n",
       "         '157': 53960,\n",
       "         '159': 68589,\n",
       "         '161': 49319,\n",
       "         '162': 87429,\n",
       "         '163': 59229,\n",
       "         '165': 82729,\n",
       "         '167': 67999,\n",
       "         '168': 92709,\n",
       "         '175': 92559,\n",
       "         '180': 85010,\n",
       "         '181': 85369,\n",
       "         '183': 46699,\n",
       "         '187': 34009,\n",
       "         '189': 37370,\n",
       "         '190': 82889,\n",
       "         '191': 64399,\n",
       "         '192': 83009,\n",
       "         '195': 65090,\n",
       "         '198': 30540,\n",
       "         '203': 63429,\n",
       "         '204': 57810,\n",
       "         '205': 71250,\n",
       "         '206': 95079,\n",
       "         '207': 96359,\n",
       "         '209': 97089,\n",
       "         '211': 60799,\n",
       "         '215': 41480,\n",
       "         '216': 67809,\n",
       "         '218': 72739,\n",
       "         '220': 84469,\n",
       "         '222': 83289,\n",
       "         '223': 66990,\n",
       "         '225': 76229,\n",
       "         '227': 40779,\n",
       "         '229': 42380,\n",
       "         '230': 75590,\n",
       "         '231': 62280,\n",
       "         '232': 80969,\n",
       "         '233': 36809,\n",
       "         '234': 56669,\n",
       "         '239': 88690,\n",
       "         '240': 55650,\n",
       "         '245': 74309,\n",
       "         '247': 40820,\n",
       "         '251': 48989,\n",
       "         '252': 71029,\n",
       "         '253': 78819,\n",
       "         '255': 76779,\n",
       "         '257': 45509,\n",
       "         '259': 56080,\n",
       "         '261': 36300,\n",
       "         '264': 60040,\n",
       "         '267': 44950,\n",
       "         '268': 76949,\n",
       "         '269': 39479,\n",
       "         '270': 76159,\n",
       "         '271': 93849,\n",
       "         '275': 44659,\n",
       "         '276': 75139,\n",
       "         '277': 63859,\n",
       "         '279': 87289,\n",
       "         '281': 47490,\n",
       "         '286': 80809,\n",
       "         '288': 56370,\n",
       "         '293': 74839,\n",
       "         '295': 85249,\n",
       "         '297': 86519,\n",
       "         '8': 84709,\n",
       "         '14': 81209,\n",
       "         '21': 91789,\n",
       "         '22': 31629,\n",
       "         '34': 70849,\n",
       "         '44': 44850,\n",
       "         '49': 62849,\n",
       "         '53': 32440,\n",
       "         '54': 40880,\n",
       "         '57': 67659,\n",
       "         '62': 78359,\n",
       "         '63': 59949,\n",
       "         '65': 45800,\n",
       "         '80': 40089,\n",
       "         '89': 57239,\n",
       "         '92': 53569,\n",
       "         '98': 65309,\n",
       "         '107': 56659,\n",
       "         '112': 34109,\n",
       "         '116': 84949,\n",
       "         '124': 57589,\n",
       "         '134': 56819,\n",
       "         '138': 86099,\n",
       "         '152': 87529,\n",
       "         '160': 58109,\n",
       "         '164': 60059,\n",
       "         '170': 64490,\n",
       "         '172': 46039,\n",
       "         '176': 58760,\n",
       "         '177': 57539,\n",
       "         '182': 81749,\n",
       "         '185': 72469,\n",
       "         '200': 56069,\n",
       "         '201': 56699,\n",
       "         '202': 75599,\n",
       "         '210': 48059,\n",
       "         '213': 28760,\n",
       "         '217': 43340,\n",
       "         '219': 67329,\n",
       "         '221': 37600,\n",
       "         '224': 51960,\n",
       "         '228': 64349,\n",
       "         '242': 75309,\n",
       "         '243': 79049,\n",
       "         '249': 49639,\n",
       "         '250': 24760,\n",
       "         '258': 24690,\n",
       "         '260': 51019,\n",
       "         '266': 31670,\n",
       "         '273': 54109,\n",
       "         '278': 55440,\n",
       "         '290': 45029,\n",
       "         '291': 95169,\n",
       "         '292': 46329,\n",
       "         '298': 61860,\n",
       "         '299': 26720,\n",
       "         '1': 80459,\n",
       "         '17': 75119,\n",
       "         '20': 37730,\n",
       "         '70': 29210,\n",
       "         '83': 67809,\n",
       "         '110': 63949,\n",
       "         '118': 50810,\n",
       "         '127': 55459,\n",
       "         '142': 34840,\n",
       "         '145': 37890,\n",
       "         '146': 50539,\n",
       "         '147': 84199,\n",
       "         '148': 38940,\n",
       "         '151': 64389,\n",
       "         '154': 47030,\n",
       "         '158': 44899,\n",
       "         '169': 47929,\n",
       "         '171': 62090,\n",
       "         '173': 58330,\n",
       "         '178': 79239,\n",
       "         '184': 43469,\n",
       "         '186': 38790,\n",
       "         '188': 61609,\n",
       "         '197': 65039,\n",
       "         '199': 56639,\n",
       "         '208': 80509,\n",
       "         '212': 73359,\n",
       "         '226': 45799,\n",
       "         '235': 32929,\n",
       "         '237': 76229,\n",
       "         '241': 70159,\n",
       "         '244': 75389,\n",
       "         '246': 52159,\n",
       "         '248': 31209,\n",
       "         '256': 74629,\n",
       "         '263': 24380,\n",
       "         '272': 78469,\n",
       "         '274': 52290,\n",
       "         '280': 56989,\n",
       "         '283': 69209,\n",
       "         '284': 41149,\n",
       "         '287': 58479,\n",
       "         '2': 50989,\n",
       "         '5': 39489,\n",
       "         '16': 29110,\n",
       "         '28': 58749,\n",
       "         '33': 64389,\n",
       "         '42': 68229,\n",
       "         '68': 38820,\n",
       "         '74': 16310,\n",
       "         '82': 43100,\n",
       "         '87': 68639,\n",
       "         '88': 33610,\n",
       "         '94': 30650,\n",
       "         '99': 37810,\n",
       "         '119': 31739,\n",
       "         '121': 59689,\n",
       "         '122': 40160,\n",
       "         '126': 76959,\n",
       "         '129': 57299,\n",
       "         '130': 26450,\n",
       "         '135': 44739,\n",
       "         '150': 84249,\n",
       "         '155': 22319,\n",
       "         '174': 41150,\n",
       "         '179': 44140,\n",
       "         '193': 60930,\n",
       "         '196': 59319,\n",
       "         '214': 31670,\n",
       "         '238': 34570,\n",
       "         '254': 33980,\n",
       "         '262': 56869,\n",
       "         '282': 66019,\n",
       "         '285': 78089,\n",
       "         '32': 74989,\n",
       "         '37': 48749,\n",
       "         '26': 27710,\n",
       "         '29': 20720,\n",
       "         '64': 28010,\n",
       "         '85': 26899,\n",
       "         '136': 67809,\n",
       "         '166': 63919,\n",
       "         '236': 52569,\n",
       "         '6': 31960,\n",
       "         '30': 25560,\n",
       "         '194': 32460,\n",
       "         '52': 48059,\n",
       "         '78': 40640,\n",
       "         '265': 23090,\n",
       "         '289': 30800,\n",
       "         '294': 32970,\n",
       "         '25': 20980,\n",
       "         '296': 25680})"
      ]
     },
     "execution_count": 63,
     "metadata": {},
     "output_type": "execute_result"
    }
   ],
   "source": []
  },
  {
   "cell_type": "code",
   "execution_count": 1,
   "metadata": {
    "ExecuteTime": {
     "end_time": "2019-08-20T08:31:26.579675Z",
     "start_time": "2019-08-20T08:31:26.364122Z"
    }
   },
   "outputs": [],
   "source": [
    "import pickle\n",
    "with open('fingerprints.pickle', 'rb') as handle:\n",
    "    temp = pickle.load(handle)\n",
    "\n",
    "    "
   ]
  },
  {
   "cell_type": "code",
   "execution_count": 5,
   "metadata": {
    "ExecuteTime": {
     "end_time": "2019-08-20T08:31:56.472649Z",
     "start_time": "2019-08-20T08:31:56.469594Z"
    }
   },
   "outputs": [
    {
     "data": {
      "text/plain": [
       "numpy.ndarray"
      ]
     },
     "execution_count": 5,
     "metadata": {},
     "output_type": "execute_result"
    }
   ],
   "source": [
    "type(temp)"
   ]
  },
  {
   "cell_type": "code",
   "execution_count": 2,
   "metadata": {
    "ExecuteTime": {
     "end_time": "2019-08-20T01:44:27.188031Z",
     "start_time": "2019-08-20T01:44:27.177572Z"
    }
   },
   "outputs": [
    {
     "data": {
      "text/plain": [
       "{'0': 55379058,\n",
       " '3': 60292863,\n",
       " '4': 59284977,\n",
       " '7': 59371138,\n",
       " '9': 53710365,\n",
       " '10': 60089522,\n",
       " '11': 50446461,\n",
       " '12': 51538185,\n",
       " '13': 54398216,\n",
       " '15': 51516336,\n",
       " '18': 36530495,\n",
       " '19': 22825285,\n",
       " '23': 36337903,\n",
       " '24': 54392589,\n",
       " '27': 45198855,\n",
       " '31': 53889427,\n",
       " '35': 59471390,\n",
       " '36': 55525348,\n",
       " '38': 44389952,\n",
       " '39': 26182427,\n",
       " '40': 19595140,\n",
       " '41': 38997817,\n",
       " '43': 37193689,\n",
       " '45': 46215049,\n",
       " '46': 49477603,\n",
       " '47': 46651333,\n",
       " '48': 58170478,\n",
       " '50': 29568944,\n",
       " '51': 54110815,\n",
       " '55': 36444376,\n",
       " '56': 47769398,\n",
       " '58': 42802294,\n",
       " '59': 24059192,\n",
       " '60': 60386449,\n",
       " '61': 34524327,\n",
       " '66': 50328923,\n",
       " '67': 39024087,\n",
       " '69': 36156688,\n",
       " '71': 50968654,\n",
       " '72': 47210298,\n",
       " '73': 53192934,\n",
       " '75': 40158836,\n",
       " '76': 50940248,\n",
       " '77': 38795984,\n",
       " '79': 36294476,\n",
       " '81': 40821861,\n",
       " '84': 40893892,\n",
       " '86': 51401879,\n",
       " '90': 18576683,\n",
       " '91': 50720829,\n",
       " '93': 30190127,\n",
       " '95': 23319269,\n",
       " '96': 51952599,\n",
       " '97': 26350105,\n",
       " '100': 53890153,\n",
       " '101': 33922789,\n",
       " '102': 44438063,\n",
       " '103': 41651948,\n",
       " '104': 54711965,\n",
       " '105': 58784142,\n",
       " '106': 52840165,\n",
       " '108': 61652363,\n",
       " '109': 39323906,\n",
       " '111': 60705904,\n",
       " '113': 44930160,\n",
       " '114': 35408245,\n",
       " '115': 16784243,\n",
       " '117': 37197700,\n",
       " '120': 37334626,\n",
       " '123': 22189033,\n",
       " '125': 36793699,\n",
       " '128': 51838198,\n",
       " '131': 50134520,\n",
       " '132': 55208649,\n",
       " '133': 30471564,\n",
       " '137': 36385218,\n",
       " '139': 14140706,\n",
       " '140': 54252149,\n",
       " '141': 32487182,\n",
       " '143': 56591488,\n",
       " '144': 55254780,\n",
       " '149': 18460882,\n",
       " '153': 61861260,\n",
       " '156': 53817526,\n",
       " '157': 29415485,\n",
       " '159': 42482539,\n",
       " '161': 29851524,\n",
       " '162': 54058340,\n",
       " '163': 35332553,\n",
       " '165': 48523707,\n",
       " '167': 42900111,\n",
       " '168': 57137678,\n",
       " '175': 56761900,\n",
       " '180': 50418306,\n",
       " '181': 49780783,\n",
       " '183': 26881862,\n",
       " '187': 19318540,\n",
       " '189': 27463459,\n",
       " '190': 50568985,\n",
       " '191': 45305002,\n",
       " '192': 53097955,\n",
       " '195': 35357920,\n",
       " '198': 28374064,\n",
       " '203': 40742123,\n",
       " '204': 36642422,\n",
       " '205': 39584909,\n",
       " '206': 58585504,\n",
       " '207': 59192837,\n",
       " '209': 59948097,\n",
       " '211': 39657467,\n",
       " '215': 25041160,\n",
       " '216': 41799022,\n",
       " '218': 48791956,\n",
       " '220': 52334989,\n",
       " '222': 49536289,\n",
       " '223': 44941798,\n",
       " '225': 48346329,\n",
       " '227': 23124145,\n",
       " '229': 20932392,\n",
       " '230': 43744802,\n",
       " '231': 42199900,\n",
       " '232': 50674849,\n",
       " '233': 21603434,\n",
       " '234': 43229813,\n",
       " '239': 54619829,\n",
       " '240': 35549261,\n",
       " '245': 42935877,\n",
       " '247': 20029467,\n",
       " '251': 38100309,\n",
       " '252': 42839870,\n",
       " '253': 45793194,\n",
       " '255': 43889618,\n",
       " '257': 29205116,\n",
       " '259': 32069537,\n",
       " '261': 27122010,\n",
       " '264': 36941317,\n",
       " '267': 27868349,\n",
       " '268': 51024655,\n",
       " '269': 24755633,\n",
       " '270': 43491935,\n",
       " '271': 58351712,\n",
       " '275': 27594700,\n",
       " '276': 49558357,\n",
       " '277': 35049261,\n",
       " '279': 54210839,\n",
       " '281': 30446298,\n",
       " '286': 47596291,\n",
       " '288': 44144934,\n",
       " '293': 50759251,\n",
       " '295': 50863075,\n",
       " '297': 55108014,\n",
       " '8': 51457825,\n",
       " '14': 49282955,\n",
       " '21': 56646939,\n",
       " '22': 18171683,\n",
       " '34': 43950529,\n",
       " '44': 29852648,\n",
       " '49': 40298568,\n",
       " '53': 17799739,\n",
       " '54': 23199403,\n",
       " '57': 41035766,\n",
       " '62': 49244259,\n",
       " '63': 38469734,\n",
       " '65': 26337736,\n",
       " '80': 24115405,\n",
       " '89': 34661852,\n",
       " '92': 30173282,\n",
       " '98': 38405657,\n",
       " '107': 32523528,\n",
       " '112': 20905064,\n",
       " '116': 54116552,\n",
       " '124': 35725455,\n",
       " '134': 33839286,\n",
       " '138': 53161380,\n",
       " '152': 56084944,\n",
       " '160': 36145375,\n",
       " '164': 38492216,\n",
       " '170': 40140074,\n",
       " '172': 26111511,\n",
       " '176': 34872133,\n",
       " '177': 36287497,\n",
       " '182': 49697379,\n",
       " '185': 45662725,\n",
       " '200': 33783159,\n",
       " '201': 35706827,\n",
       " '202': 44336126,\n",
       " '210': 29965731,\n",
       " '213': 17570988,\n",
       " '217': 26497640,\n",
       " '219': 39816673,\n",
       " '221': 22809566,\n",
       " '224': 32886079,\n",
       " '228': 37421025,\n",
       " '242': 45840827,\n",
       " '243': 53141030,\n",
       " '249': 28282720,\n",
       " '250': 15495038,\n",
       " '258': 16773223,\n",
       " '260': 31843914,\n",
       " '266': 22664290,\n",
       " '273': 36414516,\n",
       " '278': 40420662,\n",
       " '290': 27293537,\n",
       " '291': 59753206,\n",
       " '292': 26992246,\n",
       " '298': 38723754,\n",
       " '299': 16269767,\n",
       " '1': 50359715,\n",
       " '17': 45186030,\n",
       " '20': 32371817,\n",
       " '70': 17399288,\n",
       " '83': 45234433,\n",
       " '110': 37414157,\n",
       " '118': 30017155,\n",
       " '127': 33675075,\n",
       " '142': 22700337,\n",
       " '145': 22105197,\n",
       " '146': 35528468,\n",
       " '147': 52029662,\n",
       " '148': 28464550,\n",
       " '151': 41218282,\n",
       " '154': 30947571,\n",
       " '158': 30751625,\n",
       " '169': 29830348,\n",
       " '171': 40694957,\n",
       " '173': 43848851,\n",
       " '178': 47149551,\n",
       " '184': 26475507,\n",
       " '186': 27094288,\n",
       " '188': 41832266,\n",
       " '197': 40516211,\n",
       " '199': 34682829,\n",
       " '208': 50504136,\n",
       " '212': 43951470,\n",
       " '226': 26815800,\n",
       " '235': 18620078,\n",
       " '237': 47003900,\n",
       " '241': 42081107,\n",
       " '244': 47395609,\n",
       " '246': 30555534,\n",
       " '248': 20678389,\n",
       " '256': 47239883,\n",
       " '263': 16593679,\n",
       " '272': 47401035,\n",
       " '274': 38251206,\n",
       " '280': 34318143,\n",
       " '283': 41570659,\n",
       " '284': 22340017,\n",
       " '287': 34048283,\n",
       " '5': 27202294,\n",
       " '6': 21316062,\n",
       " '30': 15413565,\n",
       " '33': 39512699,\n",
       " '87': 40221390,\n",
       " '122': 23954005,\n",
       " '126': 47745652,\n",
       " '150': 52555083,\n",
       " '174': 25250156,\n",
       " '193': 35955034,\n",
       " '194': 21170949,\n",
       " '254': 25766191,\n",
       " '262': 32093154,\n",
       " '285': 49036556,\n",
       " '25': 15581148,\n",
       " '29': 12391737,\n",
       " '74': 7839275,\n",
       " '82': 24815801,\n",
       " '94': 16187470,\n",
       " '99': 21897868,\n",
       " '121': 35413138,\n",
       " '129': 33508089,\n",
       " '130': 16233331,\n",
       " '179': 28351513,\n",
       " '196': 34332715,\n",
       " '265': 15266785,\n",
       " '282': 38274965,\n",
       " '16': 19383340,\n",
       " '26': 19664815,\n",
       " '28': 35889315,\n",
       " '37': 30713911,\n",
       " '68': 22780612,\n",
       " '78': 25986161,\n",
       " '85': 16090498,\n",
       " '155': 12116938,\n",
       " '296': 16113609,\n",
       " '2': 30125235,\n",
       " '32': 46464199,\n",
       " '42': 41901374,\n",
       " '64': 18066809,\n",
       " '119': 16350857,\n",
       " '136': 39736239,\n",
       " '166': 37600231,\n",
       " '236': 30802204,\n",
       " '52': 31389483,\n",
       " '88': 20177754,\n",
       " '135': 24987890,\n",
       " '238': 19692813,\n",
       " '294': 18820640,\n",
       " '214': 20423333,\n",
       " '289': 18462745,\n",
       " 'num_records': 61861260}"
      ]
     },
     "execution_count": 2,
     "metadata": {},
     "output_type": "execute_result"
    }
   ],
   "source": [
    "temp"
   ]
  },
  {
   "cell_type": "code",
   "execution_count": 111,
   "metadata": {
    "ExecuteTime": {
     "end_time": "2019-08-19T10:10:22.399714Z",
     "start_time": "2019-08-19T10:10:22.387622Z"
    }
   },
   "outputs": [],
   "source": [
    "num_records = 123868050"
   ]
  },
  {
   "cell_type": "code",
   "execution_count": 4,
   "metadata": {
    "ExecuteTime": {
     "end_time": "2019-08-20T01:57:27.380083Z",
     "start_time": "2019-08-20T01:57:27.332476Z"
    }
   },
   "outputs": [],
   "source": [
    "import numpy as np"
   ]
  },
  {
   "cell_type": "code",
   "execution_count": 8,
   "metadata": {
    "ExecuteTime": {
     "end_time": "2019-08-20T01:59:23.933231Z",
     "start_time": "2019-08-20T01:59:23.928877Z"
    }
   },
   "outputs": [],
   "source": [
    "fingerprints = np.random.randint(0,2 ,(10,5))"
   ]
  },
  {
   "cell_type": "code",
   "execution_count": 13,
   "metadata": {
    "ExecuteTime": {
     "end_time": "2019-08-20T02:00:48.012674Z",
     "start_time": "2019-08-20T02:00:48.008109Z"
    }
   },
   "outputs": [],
   "source": [
    "import random"
   ]
  },
  {
   "cell_type": "code",
   "execution_count": 15,
   "metadata": {
    "ExecuteTime": {
     "end_time": "2019-08-20T02:00:56.130603Z",
     "start_time": "2019-08-20T02:00:56.120110Z"
    }
   },
   "outputs": [
    {
     "ename": "TypeError",
     "evalue": "choice() takes 2 positional arguments but 3 were given",
     "output_type": "error",
     "traceback": [
      "\u001b[0;31m---------------------------------------------------------------------------\u001b[0m",
      "\u001b[0;31mTypeError\u001b[0m                                 Traceback (most recent call last)",
      "\u001b[0;32m<ipython-input-15-b6dd301852df>\u001b[0m in \u001b[0;36m<module>\u001b[0;34m\u001b[0m\n\u001b[0;32m----> 1\u001b[0;31m \u001b[0mrandom\u001b[0m\u001b[0;34m.\u001b[0m\u001b[0mchoice\u001b[0m\u001b[0;34m(\u001b[0m\u001b[0mfingerprints\u001b[0m\u001b[0;34m,\u001b[0m\u001b[0;36m2\u001b[0m\u001b[0;34m)\u001b[0m\u001b[0;34m\u001b[0m\u001b[0;34m\u001b[0m\u001b[0m\n\u001b[0m",
      "\u001b[0;31mTypeError\u001b[0m: choice() takes 2 positional arguments but 3 were given"
     ]
    }
   ],
   "source": [
    "random.sample()"
   ]
  },
  {
   "cell_type": "code",
   "execution_count": 18,
   "metadata": {
    "ExecuteTime": {
     "end_time": "2019-08-20T02:01:49.149502Z",
     "start_time": "2019-08-20T02:01:49.143602Z"
    }
   },
   "outputs": [],
   "source": [
    "pair = random.sample(range(fingerprints.shape[0]),2)"
   ]
  },
  {
   "cell_type": "code",
   "execution_count": 21,
   "metadata": {
    "ExecuteTime": {
     "end_time": "2019-08-20T02:02:35.470278Z",
     "start_time": "2019-08-20T02:02:35.464625Z"
    }
   },
   "outputs": [
    {
     "data": {
      "text/plain": [
       "[5, 4]"
      ]
     },
     "execution_count": 21,
     "metadata": {},
     "output_type": "execute_result"
    }
   ],
   "source": [
    "pair"
   ]
  },
  {
   "cell_type": "code",
   "execution_count": 22,
   "metadata": {
    "ExecuteTime": {
     "end_time": "2019-08-20T02:02:38.205797Z",
     "start_time": "2019-08-20T02:02:38.200583Z"
    }
   },
   "outputs": [
    {
     "data": {
      "text/plain": [
       "array([[0, 0, 1, 1, 1],\n",
       "       [1, 1, 0, 1, 1],\n",
       "       [1, 1, 1, 1, 1],\n",
       "       [0, 1, 0, 1, 1],\n",
       "       [0, 1, 1, 1, 1],\n",
       "       [0, 1, 1, 1, 0],\n",
       "       [0, 0, 0, 1, 1],\n",
       "       [1, 0, 0, 1, 1],\n",
       "       [1, 0, 1, 1, 1],\n",
       "       [1, 0, 1, 1, 1]])"
      ]
     },
     "execution_count": 22,
     "metadata": {},
     "output_type": "execute_result"
    }
   ],
   "source": [
    "fingerprints"
   ]
  },
  {
   "cell_type": "code",
   "execution_count": 33,
   "metadata": {
    "ExecuteTime": {
     "end_time": "2019-08-20T02:37:25.785386Z",
     "start_time": "2019-08-20T02:37:25.783016Z"
    }
   },
   "outputs": [],
   "source": [
    "from hashlib import sha1"
   ]
  },
  {
   "cell_type": "code",
   "execution_count": 35,
   "metadata": {
    "ExecuteTime": {
     "end_time": "2019-08-20T02:37:41.929909Z",
     "start_time": "2019-08-20T02:37:41.926627Z"
    }
   },
   "outputs": [],
   "source": [
    "m = sha1()"
   ]
  },
  {
   "cell_type": "code",
   "execution_count": 38,
   "metadata": {
    "ExecuteTime": {
     "end_time": "2019-08-20T02:38:26.248722Z",
     "start_time": "2019-08-20T02:38:26.246476Z"
    }
   },
   "outputs": [],
   "source": [
    "m.update(b'1')"
   ]
  },
  {
   "cell_type": "code",
   "execution_count": 42,
   "metadata": {
    "ExecuteTime": {
     "end_time": "2019-08-20T02:39:24.025963Z",
     "start_time": "2019-08-20T02:39:24.022801Z"
    }
   },
   "outputs": [
    {
     "data": {
      "text/plain": [
       "b'1'"
      ]
     },
     "execution_count": 42,
     "metadata": {},
     "output_type": "execute_result"
    }
   ],
   "source": []
  },
  {
   "cell_type": "code",
   "execution_count": 41,
   "metadata": {
    "ExecuteTime": {
     "end_time": "2019-08-20T02:38:37.791406Z",
     "start_time": "2019-08-20T02:38:37.785826Z"
    }
   },
   "outputs": [
    {
     "data": {
      "text/plain": [
       "'356a192b7913b04c54574d18c28d46e6395428ab'"
      ]
     },
     "execution_count": 41,
     "metadata": {},
     "output_type": "execute_result"
    }
   ],
   "source": [
    "m.hexdigest()"
   ]
  },
  {
   "cell_type": "code",
   "execution_count": 25,
   "metadata": {
    "ExecuteTime": {
     "end_time": "2019-08-20T02:14:03.344797Z",
     "start_time": "2019-08-20T02:14:03.340246Z"
    }
   },
   "outputs": [],
   "source": [
    "li = [1,2,4,6,7,10]"
   ]
  },
  {
   "cell_type": "code",
   "execution_count": 32,
   "metadata": {
    "ExecuteTime": {
     "end_time": "2019-08-20T02:25:42.247683Z",
     "start_time": "2019-08-20T02:25:42.240001Z"
    }
   },
   "outputs": [
    {
     "data": {
      "text/plain": [
       "array([ 72057594037927936, 144115188075855872, 288230376151711744,\n",
       "       432345564227567616, 504403158265495552, 720575940379279360])"
      ]
     },
     "execution_count": 32,
     "metadata": {},
     "output_type": "execute_result"
    }
   ],
   "source": [
    "np.array(li).byteswap()"
   ]
  },
  {
   "cell_type": "code",
   "execution_count": 3,
   "metadata": {
    "ExecuteTime": {
     "end_time": "2019-08-20T01:44:52.112248Z",
     "start_time": "2019-08-20T01:44:52.105722Z"
    },
    "scrolled": true
   },
   "outputs": [
    {
     "data": {
      "text/plain": [
       "['154',\n",
       " '236',\n",
       " '158',\n",
       " '37',\n",
       " '246',\n",
       " '52',\n",
       " '133',\n",
       " '281',\n",
       " '93',\n",
       " '92',\n",
       " '2',\n",
       " '260',\n",
       " '118',\n",
       " '210',\n",
       " '44',\n",
       " '161',\n",
       " '169',\n",
       " '259',\n",
       " '262',\n",
       " '50',\n",
       " '20',\n",
       " '157',\n",
       " '141',\n",
       " '107',\n",
       " '257',\n",
       " '224',\n",
       " '148',\n",
       " '198',\n",
       " '129',\n",
       " '179',\n",
       " '249',\n",
       " '127',\n",
       " '200',\n",
       " '134',\n",
       " '101',\n",
       " '267',\n",
       " '287',\n",
       " '275',\n",
       " '280',\n",
       " '196',\n",
       " '189',\n",
       " '61',\n",
       " '290',\n",
       " '5',\n",
       " '89',\n",
       " '199',\n",
       " '261',\n",
       " '186',\n",
       " '292',\n",
       " '176',\n",
       " '183',\n",
       " '226',\n",
       " '277',\n",
       " '163',\n",
       " '195',\n",
       " '217',\n",
       " '184',\n",
       " '114',\n",
       " '121',\n",
       " '97',\n",
       " '65',\n",
       " '146',\n",
       " '240',\n",
       " '39',\n",
       " '201',\n",
       " '124',\n",
       " '172',\n",
       " '78',\n",
       " '28',\n",
       " '193',\n",
       " '254',\n",
       " '160',\n",
       " '69',\n",
       " '177',\n",
       " '79',\n",
       " '23',\n",
       " '137',\n",
       " '273',\n",
       " '55',\n",
       " '18',\n",
       " '174',\n",
       " '204',\n",
       " '125',\n",
       " '215',\n",
       " '135',\n",
       " '264',\n",
       " '82',\n",
       " '269',\n",
       " '43',\n",
       " '117',\n",
       " '120',\n",
       " '110',\n",
       " '228',\n",
       " '166',\n",
       " '80',\n",
       " '59',\n",
       " '122',\n",
       " '251',\n",
       " '274',\n",
       " '282',\n",
       " '98',\n",
       " '63',\n",
       " '164',\n",
       " '95',\n",
       " '54',\n",
       " '298',\n",
       " '227',\n",
       " '77',\n",
       " '41',\n",
       " '67',\n",
       " '19',\n",
       " '221',\n",
       " '68',\n",
       " '142',\n",
       " '266',\n",
       " '109',\n",
       " '33',\n",
       " '284',\n",
       " '205',\n",
       " '211',\n",
       " '123',\n",
       " '136',\n",
       " '145',\n",
       " '219',\n",
       " '99',\n",
       " '170',\n",
       " '75',\n",
       " '87',\n",
       " '233',\n",
       " '49',\n",
       " '278',\n",
       " '197',\n",
       " '6',\n",
       " '194',\n",
       " '171',\n",
       " '203',\n",
       " '81',\n",
       " '84',\n",
       " '229',\n",
       " '112',\n",
       " '57',\n",
       " '248',\n",
       " '151',\n",
       " '214',\n",
       " '283',\n",
       " '103',\n",
       " '88',\n",
       " '216',\n",
       " '247',\n",
       " '188',\n",
       " '42',\n",
       " '241',\n",
       " '238',\n",
       " '26',\n",
       " '231',\n",
       " '40',\n",
       " '16',\n",
       " '159',\n",
       " '187',\n",
       " '58',\n",
       " '252',\n",
       " '167',\n",
       " '245',\n",
       " '294',\n",
       " '234',\n",
       " '235',\n",
       " '90',\n",
       " '289',\n",
       " '149',\n",
       " '270',\n",
       " '22',\n",
       " '230',\n",
       " '64',\n",
       " '173',\n",
       " '255',\n",
       " '34',\n",
       " '212',\n",
       " '53',\n",
       " '288',\n",
       " '213',\n",
       " '202',\n",
       " '38',\n",
       " '102',\n",
       " '70',\n",
       " '113',\n",
       " '223',\n",
       " '115',\n",
       " '258',\n",
       " '17',\n",
       " '27',\n",
       " '83',\n",
       " '263',\n",
       " '191',\n",
       " '119',\n",
       " '299',\n",
       " '130',\n",
       " '185',\n",
       " '94',\n",
       " '296',\n",
       " '85',\n",
       " '253',\n",
       " '242',\n",
       " '45',\n",
       " '25',\n",
       " '250',\n",
       " '30',\n",
       " '32',\n",
       " '265',\n",
       " '47',\n",
       " '237',\n",
       " '178',\n",
       " '72',\n",
       " '256',\n",
       " '244',\n",
       " '272',\n",
       " '286',\n",
       " '139',\n",
       " '126',\n",
       " '56',\n",
       " '225',\n",
       " '165',\n",
       " '218',\n",
       " '285',\n",
       " '62',\n",
       " '14',\n",
       " '29',\n",
       " '46',\n",
       " '222',\n",
       " '276',\n",
       " '182',\n",
       " '155',\n",
       " '181',\n",
       " '131',\n",
       " '66',\n",
       " '1',\n",
       " '180',\n",
       " '11',\n",
       " '208',\n",
       " '190',\n",
       " '232',\n",
       " '91',\n",
       " '293',\n",
       " '295',\n",
       " '76',\n",
       " '71',\n",
       " '268',\n",
       " '86',\n",
       " '8',\n",
       " '15',\n",
       " '12',\n",
       " '128',\n",
       " '96',\n",
       " '147',\n",
       " '220',\n",
       " '150',\n",
       " '106',\n",
       " '192',\n",
       " '243',\n",
       " '138',\n",
       " '73',\n",
       " '9',\n",
       " '156',\n",
       " '31',\n",
       " '100',\n",
       " '74',\n",
       " '162',\n",
       " '51',\n",
       " '116',\n",
       " '279',\n",
       " '140',\n",
       " '24',\n",
       " '13',\n",
       " '239',\n",
       " '104',\n",
       " '297',\n",
       " '132',\n",
       " '144',\n",
       " '0',\n",
       " '36',\n",
       " '152',\n",
       " '143',\n",
       " '21',\n",
       " '175',\n",
       " '168',\n",
       " '48',\n",
       " '271',\n",
       " '206',\n",
       " '105',\n",
       " '207',\n",
       " '4',\n",
       " '7',\n",
       " '35',\n",
       " '291',\n",
       " '209',\n",
       " '10',\n",
       " '3',\n",
       " '60',\n",
       " '111',\n",
       " '108',\n",
       " '153',\n",
       " 'num_records']"
      ]
     },
     "execution_count": 3,
     "metadata": {},
     "output_type": "execute_result"
    }
   ],
   "source": []
  },
  {
   "cell_type": "code",
   "execution_count": null,
   "metadata": {},
   "outputs": [],
   "source": []
  }
 ],
 "metadata": {
  "kernelspec": {
   "display_name": "Python 3",
   "language": "python",
   "name": "python3"
  },
  "language_info": {
   "codemirror_mode": {
    "name": "ipython",
    "version": 3
   },
   "file_extension": ".py",
   "mimetype": "text/x-python",
   "name": "python",
   "nbconvert_exporter": "python",
   "pygments_lexer": "ipython3",
   "version": "3.7.3"
  },
  "toc": {
   "base_numbering": 1,
   "nav_menu": {},
   "number_sections": true,
   "sideBar": true,
   "skip_h1_title": false,
   "title_cell": "Table of Contents",
   "title_sidebar": "Contents",
   "toc_cell": false,
   "toc_position": {},
   "toc_section_display": true,
   "toc_window_display": false
  }
 },
 "nbformat": 4,
 "nbformat_minor": 2
}
